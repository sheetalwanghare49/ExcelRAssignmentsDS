{
 "cells": [
  {
   "cell_type": "code",
   "execution_count": 1,
   "metadata": {},
   "outputs": [],
   "source": [
    "#importing the libraries\n",
    "import pandas as pd\n",
    "import matplotlib.pyplot as plt"
   ]
  },
  {
   "cell_type": "code",
   "execution_count": 2,
   "metadata": {},
   "outputs": [],
   "source": [
    "#read the data\n",
    "data = pd.read_csv('blogs_categories.csv')"
   ]
  },
  {
   "cell_type": "code",
   "execution_count": 3,
   "metadata": {},
   "outputs": [
    {
     "data": {
      "text/html": [
       "<div>\n",
       "<style scoped>\n",
       "    .dataframe tbody tr th:only-of-type {\n",
       "        vertical-align: middle;\n",
       "    }\n",
       "\n",
       "    .dataframe tbody tr th {\n",
       "        vertical-align: top;\n",
       "    }\n",
       "\n",
       "    .dataframe thead th {\n",
       "        text-align: right;\n",
       "    }\n",
       "</style>\n",
       "<table border=\"1\" class=\"dataframe\">\n",
       "  <thead>\n",
       "    <tr style=\"text-align: right;\">\n",
       "      <th></th>\n",
       "      <th>Unnamed: 0</th>\n",
       "      <th>Data</th>\n",
       "      <th>Labels</th>\n",
       "    </tr>\n",
       "  </thead>\n",
       "  <tbody>\n",
       "    <tr>\n",
       "      <th>0</th>\n",
       "      <td>0</td>\n",
       "      <td>Xref: cantaloupe.srv.cs.cmu.edu alt.atheism:49...</td>\n",
       "      <td>alt.atheism</td>\n",
       "    </tr>\n",
       "    <tr>\n",
       "      <th>1</th>\n",
       "      <td>1</td>\n",
       "      <td>Xref: cantaloupe.srv.cs.cmu.edu alt.atheism:51...</td>\n",
       "      <td>alt.atheism</td>\n",
       "    </tr>\n",
       "    <tr>\n",
       "      <th>2</th>\n",
       "      <td>2</td>\n",
       "      <td>Newsgroups: alt.atheism\\nPath: cantaloupe.srv....</td>\n",
       "      <td>alt.atheism</td>\n",
       "    </tr>\n",
       "    <tr>\n",
       "      <th>3</th>\n",
       "      <td>3</td>\n",
       "      <td>Xref: cantaloupe.srv.cs.cmu.edu alt.atheism:51...</td>\n",
       "      <td>alt.atheism</td>\n",
       "    </tr>\n",
       "    <tr>\n",
       "      <th>4</th>\n",
       "      <td>4</td>\n",
       "      <td>Xref: cantaloupe.srv.cs.cmu.edu alt.atheism:51...</td>\n",
       "      <td>alt.atheism</td>\n",
       "    </tr>\n",
       "  </tbody>\n",
       "</table>\n",
       "</div>"
      ],
      "text/plain": [
       "   Unnamed: 0                                               Data       Labels\n",
       "0           0  Xref: cantaloupe.srv.cs.cmu.edu alt.atheism:49...  alt.atheism\n",
       "1           1  Xref: cantaloupe.srv.cs.cmu.edu alt.atheism:51...  alt.atheism\n",
       "2           2  Newsgroups: alt.atheism\\nPath: cantaloupe.srv....  alt.atheism\n",
       "3           3  Xref: cantaloupe.srv.cs.cmu.edu alt.atheism:51...  alt.atheism\n",
       "4           4  Xref: cantaloupe.srv.cs.cmu.edu alt.atheism:51...  alt.atheism"
      ]
     },
     "execution_count": 3,
     "metadata": {},
     "output_type": "execute_result"
    }
   ],
   "source": [
    "data.head()"
   ]
  },
  {
   "cell_type": "code",
   "execution_count": 4,
   "metadata": {},
   "outputs": [
    {
     "data": {
      "text/plain": [
       "(19997, 3)"
      ]
     },
     "execution_count": 4,
     "metadata": {},
     "output_type": "execute_result"
    }
   ],
   "source": [
    "data.shape"
   ]
  },
  {
   "cell_type": "code",
   "execution_count": 5,
   "metadata": {},
   "outputs": [
    {
     "data": {
      "text/plain": [
       "Unnamed: 0    0\n",
       "Data          0\n",
       "Labels        0\n",
       "dtype: int64"
      ]
     },
     "execution_count": 5,
     "metadata": {},
     "output_type": "execute_result"
    }
   ],
   "source": [
    "#check for null values\n",
    "data.isnull().sum()"
   ]
  },
  {
   "cell_type": "code",
   "execution_count": 6,
   "metadata": {},
   "outputs": [
    {
     "data": {
      "text/plain": [
       "array(['alt.atheism', 'comp.graphics', 'comp.os.ms-windows.misc',\n",
       "       'comp.sys.ibm.pc.hardware', 'comp.sys.mac.hardware',\n",
       "       'comp.windows.x', 'misc.forsale', 'rec.autos', 'rec.motorcycles',\n",
       "       'rec.sport.baseball', 'rec.sport.hockey', 'sci.crypt',\n",
       "       'sci.electronics', 'sci.med', 'sci.space',\n",
       "       'soc.religion.christian', 'talk.politics.guns',\n",
       "       'talk.politics.mideast', 'talk.politics.misc',\n",
       "       'talk.religion.misc'], dtype=object)"
      ]
     },
     "execution_count": 6,
     "metadata": {},
     "output_type": "execute_result"
    }
   ],
   "source": [
    "data['Labels'].unique()"
   ]
  },
  {
   "cell_type": "code",
   "execution_count": 7,
   "metadata": {},
   "outputs": [
    {
     "name": "stdout",
     "output_type": "stream",
     "text": [
      "alt.atheism                 1000\n",
      "comp.graphics               1000\n",
      "talk.politics.misc          1000\n",
      "talk.politics.mideast       1000\n",
      "talk.politics.guns          1000\n",
      "sci.space                   1000\n",
      "sci.med                     1000\n",
      "sci.electronics             1000\n",
      "sci.crypt                   1000\n",
      "rec.sport.hockey            1000\n",
      "rec.sport.baseball          1000\n",
      "rec.motorcycles             1000\n",
      "rec.autos                   1000\n",
      "misc.forsale                1000\n",
      "comp.windows.x              1000\n",
      "comp.sys.mac.hardware       1000\n",
      "comp.sys.ibm.pc.hardware    1000\n",
      "comp.os.ms-windows.misc     1000\n",
      "talk.religion.misc          1000\n",
      "soc.religion.christian       997\n",
      "Name: Labels, dtype: int64\n"
     ]
    }
   ],
   "source": [
    "# Distribution of categories\n",
    "print(data['Labels'].value_counts())"
   ]
  },
  {
   "cell_type": "code",
   "execution_count": 8,
   "metadata": {},
   "outputs": [
    {
     "name": "stdout",
     "output_type": "stream",
     "text": [
      "count     19997.000000\n",
      "mean       2306.974196\n",
      "std        3912.979447\n",
      "min         345.000000\n",
      "25%        1139.000000\n",
      "50%        1600.000000\n",
      "75%        2321.000000\n",
      "max      161040.000000\n",
      "Name: text_length, dtype: float64\n"
     ]
    }
   ],
   "source": [
    "# Length of blog posts\n",
    "data['text_length'] = data['Data'].apply(len)\n",
    "print(data['text_length'].describe())"
   ]
  },
  {
   "cell_type": "code",
   "execution_count": 10,
   "metadata": {},
   "outputs": [
    {
     "data": {
      "text/plain": [
       "array([[<Axes: title={'center': 'alt.atheism'}>,\n",
       "        <Axes: title={'center': 'comp.graphics'}>,\n",
       "        <Axes: title={'center': 'comp.os.ms-windows.misc'}>,\n",
       "        <Axes: title={'center': 'comp.sys.ibm.pc.hardware'}>],\n",
       "       [<Axes: title={'center': 'comp.sys.mac.hardware'}>,\n",
       "        <Axes: title={'center': 'comp.windows.x'}>,\n",
       "        <Axes: title={'center': 'misc.forsale'}>,\n",
       "        <Axes: title={'center': 'rec.autos'}>],\n",
       "       [<Axes: title={'center': 'rec.motorcycles'}>,\n",
       "        <Axes: title={'center': 'rec.sport.baseball'}>,\n",
       "        <Axes: title={'center': 'rec.sport.hockey'}>,\n",
       "        <Axes: title={'center': 'sci.crypt'}>],\n",
       "       [<Axes: title={'center': 'sci.electronics'}>,\n",
       "        <Axes: title={'center': 'sci.med'}>,\n",
       "        <Axes: title={'center': 'sci.space'}>,\n",
       "        <Axes: title={'center': 'soc.religion.christian'}>],\n",
       "       [<Axes: title={'center': 'talk.politics.guns'}>,\n",
       "        <Axes: title={'center': 'talk.politics.mideast'}>,\n",
       "        <Axes: title={'center': 'talk.politics.misc'}>,\n",
       "        <Axes: title={'center': 'talk.religion.misc'}>]], dtype=object)"
      ]
     },
     "execution_count": 10,
     "metadata": {},
     "output_type": "execute_result"
    },
    {
     "data": {
      "image/png": "[encoded data removed]",
      "text/plain": [
       "<Figure size 1500x800 with 20 Axes>"
      ]
     },
     "metadata": {},
     "output_type": "display_data"
    }
   ],
   "source": [
    "#draw histogram\n",
    "data.hist('text_length',by='Labels',figsize=(15,8),bins=100)"
   ]
  },
  {
   "cell_type": "code",
   "execution_count": 11,
   "metadata": {},
   "outputs": [
    {
     "data": {
      "image/png": "[encoded data removed]",
      "text/plain": [
       "<Figure size 1000x600 with 1 Axes>"
      ]
     },
     "metadata": {},
     "output_type": "display_data"
    }
   ],
   "source": [
    "#checking for distribution of default\n",
    "plt.figure(figsize=(10, 6))\n",
    "plt.hist(data['text_length'], bins=40, color='blue', edgecolor='black')\n",
    "plt.title('Distribution of Blog Post Lengths')\n",
    "plt.xlabel('Length of Blog Post')\n",
    "plt.ylabel('Frequency')\n",
    "plt.show()"
   ]
  },
  {
   "cell_type": "code",
   "execution_count": 12,
   "metadata": {},
   "outputs": [
    {
     "name": "stderr",
     "output_type": "stream",
     "text": [
      "[nltk_data] Downloading package stopwords to\n",
      "[nltk_data]     C:\\Users\\sheetal\\AppData\\Roaming\\nltk_data...\n",
      "[nltk_data]   Package stopwords is already up-to-date!\n"
     ]
    }
   ],
   "source": [
    "#Data Cleaning\n",
    "import string\n",
    "import nltk\n",
    "from nltk.corpus import stopwords\n",
    "\n",
    "nltk.download('stopwords')\n",
    "stop_words = set(stopwords.words('english'))\n",
    "\n",
    "def clean_text(text):\n",
    "    # Remove punctuation\n",
    "    text = text.translate(str.maketrans('', '', string.punctuation))\n",
    "    # Convert to lowercase\n",
    "    text = text.lower()\n",
    "    # Remove stopwords\n",
    "    text = ' '.join([word for word in text.split() if word not in stop_words])\n",
    "    return text\n",
    "\n",
    "data['cleaned_data'] = data['Data'].apply(clean_text)\n"
   ]
  },
  {
   "cell_type": "code",
   "execution_count": 13,
   "metadata": {},
   "outputs": [
    {
     "data": {
      "text/html": [
       "<div>\n",
       "<style scoped>\n",
       "    .dataframe tbody tr th:only-of-type {\n",
       "        vertical-align: middle;\n",
       "    }\n",
       "\n",
       "    .dataframe tbody tr th {\n",
       "        vertical-align: top;\n",
       "    }\n",
       "\n",
       "    .dataframe thead th {\n",
       "        text-align: right;\n",
       "    }\n",
       "</style>\n",
       "<table border=\"1\" class=\"dataframe\">\n",
       "  <thead>\n",
       "    <tr style=\"text-align: right;\">\n",
       "      <th></th>\n",
       "      <th>Unnamed: 0</th>\n",
       "      <th>Data</th>\n",
       "      <th>Labels</th>\n",
       "      <th>text_length</th>\n",
       "      <th>cleaned_data</th>\n",
       "    </tr>\n",
       "  </thead>\n",
       "  <tbody>\n",
       "    <tr>\n",
       "      <th>0</th>\n",
       "      <td>0</td>\n",
       "      <td>Xref: cantaloupe.srv.cs.cmu.edu alt.atheism:49...</td>\n",
       "      <td>alt.atheism</td>\n",
       "      <td>12424</td>\n",
       "      <td>xref cantaloupesrvcscmuedu altatheism49960 alt...</td>\n",
       "    </tr>\n",
       "    <tr>\n",
       "      <th>1</th>\n",
       "      <td>1</td>\n",
       "      <td>Xref: cantaloupe.srv.cs.cmu.edu alt.atheism:51...</td>\n",
       "      <td>alt.atheism</td>\n",
       "      <td>32530</td>\n",
       "      <td>xref cantaloupesrvcscmuedu altatheism51060 alt...</td>\n",
       "    </tr>\n",
       "    <tr>\n",
       "      <th>2</th>\n",
       "      <td>2</td>\n",
       "      <td>Newsgroups: alt.atheism\\nPath: cantaloupe.srv....</td>\n",
       "      <td>alt.atheism</td>\n",
       "      <td>4550</td>\n",
       "      <td>newsgroups altatheism path cantaloupesrvcscmue...</td>\n",
       "    </tr>\n",
       "    <tr>\n",
       "      <th>3</th>\n",
       "      <td>3</td>\n",
       "      <td>Xref: cantaloupe.srv.cs.cmu.edu alt.atheism:51...</td>\n",
       "      <td>alt.atheism</td>\n",
       "      <td>2067</td>\n",
       "      <td>xref cantaloupesrvcscmuedu altatheism51120 alt...</td>\n",
       "    </tr>\n",
       "    <tr>\n",
       "      <th>4</th>\n",
       "      <td>4</td>\n",
       "      <td>Xref: cantaloupe.srv.cs.cmu.edu alt.atheism:51...</td>\n",
       "      <td>alt.atheism</td>\n",
       "      <td>1347</td>\n",
       "      <td>xref cantaloupesrvcscmuedu altatheism51121 soc...</td>\n",
       "    </tr>\n",
       "  </tbody>\n",
       "</table>\n",
       "</div>"
      ],
      "text/plain": [
       "   Unnamed: 0                                               Data       Labels  \\\n",
       "0           0  Xref: cantaloupe.srv.cs.cmu.edu alt.atheism:49...  alt.atheism   \n",
       "1           1  Xref: cantaloupe.srv.cs.cmu.edu alt.atheism:51...  alt.atheism   \n",
       "2           2  Newsgroups: alt.atheism\\nPath: cantaloupe.srv....  alt.atheism   \n",
       "3           3  Xref: cantaloupe.srv.cs.cmu.edu alt.atheism:51...  alt.atheism   \n",
       "4           4  Xref: cantaloupe.srv.cs.cmu.edu alt.atheism:51...  alt.atheism   \n",
       "\n",
       "   text_length                                       cleaned_data  \n",
       "0        12424  xref cantaloupesrvcscmuedu altatheism49960 alt...  \n",
       "1        32530  xref cantaloupesrvcscmuedu altatheism51060 alt...  \n",
       "2         4550  newsgroups altatheism path cantaloupesrvcscmue...  \n",
       "3         2067  xref cantaloupesrvcscmuedu altatheism51120 alt...  \n",
       "4         1347  xref cantaloupesrvcscmuedu altatheism51121 soc...  "
      ]
     },
     "execution_count": 13,
     "metadata": {},
     "output_type": "execute_result"
    }
   ],
   "source": [
    "data.head()"
   ]
  },
  {
   "cell_type": "code",
   "execution_count": 14,
   "metadata": {},
   "outputs": [
    {
     "name": "stdout",
     "output_type": "stream",
     "text": [
      "Xref: cantaloupe.srv.cs.cmu.edu alt.atheism:49960 alt.atheism.moderated:713 news.answers:7054 alt.answers:126\n",
      "Path: cantaloupe.srv.cs.cmu.edu!crabapple.srv.cs.cmu.edu!bb3.andrew.cmu.edu!news.sei.cmu.edu!cis.ohio-state.edu!magnus.acs.ohio-state.edu!usenet.ins.cwru.edu!agate!spool.mu.edu!uunet!pipex!ibmpcug!mantis!mathew\n",
      "From: mathew <mathew@mantis.co.uk>\n",
      "Newsgroups: alt.atheism,alt.atheism.moderated,news.answers,alt.answers\n",
      "Subject: Alt.Atheism FAQ: Atheist Resources\n",
      "Summary: Books, addresses, music -- anything related to atheism\n",
      "Keywords: FAQ, atheism, books, music, fiction, addresses, contacts\n",
      "Message-ID: <19930329115719@mantis.co.uk>\n",
      "Date: Mon, 29 Mar 1993 11:57:19 GMT\n",
      "Expires: Thu, 29 Apr 1993 11:57:19 GMT\n",
      "Followup-To: alt.atheism\n",
      "Distribution: world\n",
      "Organization: Mantis Consultants, Cambridge. UK.\n",
      "Approved: news-answers-request@mit.edu\n",
      "Supersedes: <19930301143317@mantis.co.uk>\n",
      "Lines: 290\n",
      "\n",
      "Archive-name: atheism/resources\n",
      "Alt-atheism-archive-name: resources\n",
      "Last-modified: 11 December 1992\n",
      "Version: 1.0\n",
      "\n",
      "                              Atheist Resources\n",
      "\n",
      "                      Addresses of Atheist Organizations\n",
      "\n",
      "                                     USA\n",
      "\n",
      "FREEDOM FROM RELIGION FOUNDATION\n",
      "\n",
      "Darwin fish bumper stickers and assorted other atheist paraphernalia are\n",
      "available from the Freedom From Religion Foundation in the US.\n",
      "\n",
      "Write to:  FFRF, P.O. Box 750, Madison, WI 53701.\n",
      "Telephone: (608) 256-8900\n",
      "\n",
      "EVOLUTION DESIGNS\n",
      "\n",
      "Evolution Designs sell the \"Darwin fish\".  It's a fish symbol, like the ones\n",
      "Christians stick on their cars, but with feet and the word \"Darwin\" written\n",
      "inside.  The deluxe moulded 3D plastic fish is $4.95 postpaid in the US.\n",
      "\n",
      "Write to:  Evolution Designs, 7119 Laurel Canyon #4, North Hollywood,\n",
      "           CA 91605.\n",
      "\n",
      "People in the San Francisco Bay area can get Darwin Fish from Lynn Gold --\n",
      "try mailing <figmo@netcom.com>.  For net people who go to Lynn directly, the\n",
      "price is $4.95 per fish.\n",
      "\n",
      "AMERICAN ATHEIST PRESS\n",
      "\n",
      "AAP publish various atheist books -- critiques of the Bible, lists of\n",
      "Biblical contradictions, and so on.  One such book is:\n",
      "\n",
      "\"The Bible Handbook\" by W.P. Ball and G.W. Foote.  American Atheist Press.\n",
      "372 pp.  ISBN 0-910309-26-4, 2nd edition, 1986.  Bible contradictions,\n",
      "absurdities, atrocities, immoralities... contains Ball, Foote: \"The Bible\n",
      "Contradicts Itself\", AAP.  Based on the King James version of the Bible.\n",
      "\n",
      "Write to:  American Atheist Press, P.O. Box 140195, Austin, TX 78714-0195.\n",
      "      or:  7215 Cameron Road, Austin, TX 78752-2973.\n",
      "Telephone: (512) 458-1244\n",
      "Fax:       (512) 467-9525\n",
      "\n",
      "PROMETHEUS BOOKS\n",
      "\n",
      "Sell books including Haught's \"Holy Horrors\" (see below).\n",
      "\n",
      "Write to:  700 East Amherst Street, Buffalo, New York 14215.\n",
      "Telephone: (716) 837-2475.\n",
      "\n",
      "An alternate address (which may be newer or older) is:\n",
      "Prometheus Books, 59 Glenn Drive, Buffalo, NY 14228-2197.\n",
      "\n",
      "AFRICAN-AMERICANS FOR HUMANISM\n",
      "\n",
      "An organization promoting black secular humanism and uncovering the history of\n",
      "black freethought.  They publish a quarterly newsletter, AAH EXAMINER.\n",
      "\n",
      "Write to:  Norm R. Allen, Jr., African Americans for Humanism, P.O. Box 664,\n",
      "           Buffalo, NY 14226.\n",
      "\n",
      "                                United Kingdom\n",
      "\n",
      "Rationalist Press Association          National Secular Society\n",
      "88 Islington High Street               702 Holloway Road\n",
      "London N1 8EW                          London N19 3NL\n",
      "071 226 7251                           071 272 1266\n",
      "\n",
      "British Humanist Association           South Place Ethical Society\n",
      "14 Lamb's Conduit Passage              Conway Hall\n",
      "London WC1R 4RH                        Red Lion Square\n",
      "071 430 0908                           London WC1R 4RL\n",
      "fax 071 430 1271                       071 831 7723\n",
      "\n",
      "The National Secular Society publish \"The Freethinker\", a monthly magazine\n",
      "founded in 1881.\n",
      "\n",
      "                                   Germany\n",
      "\n",
      "IBKA e.V.\n",
      "Internationaler Bund der Konfessionslosen und Atheisten\n",
      "Postfach 880, D-1000 Berlin 41. Germany.\n",
      "\n",
      "IBKA publish a journal:\n",
      "MIZ. (Materialien und Informationen zur Zeit. Politisches\n",
      "Journal der Konfessionslosesn und Atheisten. Hrsg. IBKA e.V.)\n",
      "MIZ-Vertrieb, Postfach 880, D-1000 Berlin 41. Germany.\n",
      "\n",
      "For atheist books, write to:\n",
      "\n",
      "IBDK, Internationaler B\"ucherdienst der Konfessionslosen\n",
      "Postfach 3005, D-3000 Hannover 1. Germany.\n",
      "Telephone: 0511/211216\n",
      "\n",
      "\n",
      "                               Books -- Fiction\n",
      "\n",
      "THOMAS M. DISCH\n",
      "\n",
      "\"The Santa Claus Compromise\"\n",
      "Short story.  The ultimate proof that Santa exists.  All characters and \n",
      "events are fictitious.  Any similarity to living or dead gods -- uh, well...\n",
      "\n",
      "WALTER M. MILLER, JR\n",
      "\n",
      "\"A Canticle for Leibowitz\"\n",
      "One gem in this post atomic doomsday novel is the monks who spent their lives\n",
      "copying blueprints from \"Saint Leibowitz\", filling the sheets of paper with\n",
      "ink and leaving white lines and letters.\n",
      "\n",
      "EDGAR PANGBORN\n",
      "\n",
      "\"Davy\"\n",
      "Post atomic doomsday novel set in clerical states.  The church, for example,\n",
      "forbids that anyone \"produce, describe or use any substance containing...\n",
      "atoms\". \n",
      "\n",
      "PHILIP K. DICK\n",
      "\n",
      "Philip K. Dick Dick wrote many philosophical and thought-provoking short \n",
      "stories and novels.  His stories are bizarre at times, but very approachable.\n",
      "He wrote mainly SF, but he wrote about people, truth and religion rather than\n",
      "technology.  Although he often believed that he had met some sort of God, he\n",
      "remained sceptical.  Amongst his novels, the following are of some relevance:\n",
      "\n",
      "\"Galactic Pot-Healer\"\n",
      "A fallible alien deity summons a group of Earth craftsmen and women to a\n",
      "remote planet to raise a giant cathedral from beneath the oceans.  When the\n",
      "deity begins to demand faith from the earthers, pot-healer Joe Fernwright is\n",
      "unable to comply.  A polished, ironic and amusing novel.\n",
      "\n",
      "\"A Maze of Death\"\n",
      "Noteworthy for its description of a technology-based religion.\n",
      "\n",
      "\"VALIS\"\n",
      "The schizophrenic hero searches for the hidden mysteries of Gnostic\n",
      "Christianity after reality is fired into his brain by a pink laser beam of\n",
      "unknown but possibly divine origin.  He is accompanied by his dogmatic and\n",
      "dismissively atheist friend and assorted other odd characters.\n",
      "\n",
      "\"The Divine Invasion\"\n",
      "God invades Earth by making a young woman pregnant as she returns from\n",
      "another star system.  Unfortunately she is terminally ill, and must be\n",
      "assisted by a dead man whose brain is wired to 24-hour easy listening music.\n",
      "\n",
      "MARGARET ATWOOD\n",
      "\n",
      "\"The Handmaid's Tale\"\n",
      "A story based on the premise that the US Congress is mysteriously\n",
      "assassinated, and fundamentalists quickly take charge of the nation to set it\n",
      "\"right\" again.  The book is the diary of a woman's life as she tries to live\n",
      "under the new Christian theocracy.  Women's right to own property is revoked,\n",
      "and their bank accounts are closed; sinful luxuries are outlawed, and the\n",
      "radio is only used for readings from the Bible.  Crimes are punished\n",
      "retroactively: doctors who performed legal abortions in the \"old world\" are\n",
      "hunted down and hanged.  Atwood's writing style is difficult to get used to\n",
      "at first, but the tale grows more and more chilling as it goes on.\n",
      "\n",
      "VARIOUS AUTHORS\n",
      "\n",
      "\"The Bible\"\n",
      "This somewhat dull and rambling work has often been criticized.  However, it\n",
      "is probably worth reading, if only so that you'll know what all the fuss is\n",
      "about.  It exists in many different versions, so make sure you get the one\n",
      "true version.\n",
      "\n",
      "                             Books -- Non-fiction\n",
      "\n",
      "PETER DE ROSA\n",
      "\n",
      "\"Vicars of Christ\", Bantam Press, 1988\n",
      "Although de Rosa seems to be Christian or even Catholic this is a very\n",
      "enlighting history of papal immoralities, adulteries, fallacies etc.\n",
      "(German translation: \"Gottes erste Diener. Die dunkle Seite des Papsttums\",\n",
      "Droemer-Knaur, 1989)\n",
      "\n",
      "MICHAEL MARTIN\n",
      "\n",
      "\"Atheism: A Philosophical Justification\", Temple University Press,\n",
      " Philadelphia, USA.\n",
      "A detailed and scholarly justification of atheism.  Contains an outstanding\n",
      "appendix defining terminology and usage in this (necessarily) tendentious\n",
      "area.  Argues both for \"negative atheism\" (i.e. the \"non-belief in the\n",
      "existence of god(s)\") and also for \"positive atheism\" (\"the belief in the\n",
      "non-existence of god(s)\").  Includes great refutations of the most\n",
      "challenging arguments for god; particular attention is paid to refuting\n",
      "contempory theists such as Platinga and Swinburne.\n",
      "541 pages. ISBN 0-87722-642-3 (hardcover; paperback also available)\n",
      "\n",
      "\"The Case Against Christianity\", Temple University Press\n",
      "A comprehensive critique of Christianity, in which he considers\n",
      "the best contemporary defences of Christianity and (ultimately)\n",
      "demonstrates that they are unsupportable and/or incoherent.\n",
      "273 pages. ISBN 0-87722-767-5\n",
      "\n",
      "JAMES TURNER\n",
      "\n",
      "\"Without God, Without Creed\", The Johns Hopkins University Press, Baltimore,\n",
      " MD, USA\n",
      "Subtitled \"The Origins of Unbelief in America\".  Examines the way in which\n",
      "unbelief (whether agnostic or atheistic)  became a mainstream alternative\n",
      "world-view.  Focusses on the period 1770-1900, and while considering France\n",
      "and Britain the emphasis is on American, and particularly New England\n",
      "developments.  \"Neither a religious history of secularization or atheism,\n",
      "Without God, Without Creed is, rather, the intellectual history of the fate\n",
      "of a single idea, the belief that God exists.\" \n",
      "316 pages. ISBN (hardcover) 0-8018-2494-X (paper) 0-8018-3407-4\n",
      "\n",
      "GEORGE SELDES (Editor)\n",
      "\n",
      "\"The great thoughts\", Ballantine Books, New York, USA\n",
      "A \"dictionary of quotations\" of a different kind, concentrating on statements\n",
      "and writings which, explicitly or implicitly, present the person's philosophy\n",
      "and world-view.  Includes obscure (and often suppressed) opinions from many\n",
      "people.  For some popular observations, traces the way in which various\n",
      "people expressed and twisted the idea over the centuries.  Quite a number of\n",
      "the quotations are derived from Cardiff's \"What Great Men Think of Religion\"\n",
      "and Noyes' \"Views of Religion\".\n",
      "490 pages. ISBN (paper) 0-345-29887-X.\n",
      "\n",
      "RICHARD SWINBURNE\n",
      "\n",
      "\"The Existence of God (Revised Edition)\", Clarendon Paperbacks, Oxford\n",
      "This book is the second volume in a trilogy that began with \"The Coherence of\n",
      "Theism\" (1977) and was concluded with \"Faith and Reason\" (1981).  In this\n",
      "work, Swinburne attempts to construct a series of inductive arguments for the\n",
      "existence of God.  His arguments, which are somewhat tendentious and rely\n",
      "upon the imputation of late 20th century western Christian values and\n",
      "aesthetics to a God which is supposedly as simple as can be conceived, were\n",
      "decisively rejected in Mackie's \"The Miracle of Theism\".  In the revised\n",
      "edition of \"The Existence of God\", Swinburne includes an Appendix in which he\n",
      "makes a somewhat incoherent attempt to rebut Mackie.\n",
      "\n",
      "J. L. MACKIE\n",
      "\n",
      "\"The Miracle of Theism\", Oxford\n",
      "This (posthumous) volume contains a comprehensive review of the principal\n",
      "arguments for and against the existence of God.  It ranges from the classical\n",
      "philosophical positions of Descartes, Anselm, Berkeley, Hume et al, through\n",
      "the moral arguments of Newman, Kant and Sidgwick, to the recent restatements\n",
      "of the classical theses by Plantinga and Swinburne.  It also addresses those\n",
      "positions which push the concept of God beyond the realm of the rational,\n",
      "such as those of Kierkegaard, Kung and Philips, as well as \"replacements for\n",
      "God\" such as Lelie's axiarchism.  The book is a delight to read - less\n",
      "formalistic and better written than Martin's works, and refreshingly direct\n",
      "when compared with the hand-waving of Swinburne.\n",
      "\n",
      "JAMES A. HAUGHT\n",
      "\n",
      "\"Holy Horrors: An Illustrated History of Religious Murder and Madness\",\n",
      " Prometheus Books\n",
      "Looks at religious persecution from ancient times to the present day -- and\n",
      "not only by Christians.\n",
      "Library of Congress Catalog Card Number 89-64079. 1990.\n",
      "\n",
      "NORM R. ALLEN, JR.\n",
      "\n",
      "\"African American Humanism: an Anthology\"\n",
      "See the listing for African Americans for Humanism above.\n",
      "\n",
      "GORDON STEIN\n",
      "\n",
      "\"An Anthology of Atheism and Rationalism\", Prometheus Books\n",
      "An anthology covering a wide range of subjects, including 'The Devil, Evil\n",
      "and Morality' and 'The History of Freethought'.  Comprehensive bibliography.\n",
      "\n",
      "EDMUND D. COHEN\n",
      "\n",
      "\"The Mind of The Bible-Believer\", Prometheus Books\n",
      "A study of why people become Christian fundamentalists, and what effect it\n",
      "has on them.\n",
      "\n",
      "                                Net Resources\n",
      "\n",
      "There's a small mail-based archive server at mantis.co.uk which carries\n",
      "archives of old alt.atheism.moderated articles and assorted other files.  For\n",
      "more information, send mail to archive-server@mantis.co.uk saying\n",
      "\n",
      "   help\n",
      "   send atheism/index\n",
      "\n",
      "and it will mail back a reply.\n",
      "\n",
      "\n",
      "mathew\n",
      "\n",
      "\n"
     ]
    }
   ],
   "source": [
    "print(data.loc[0, 'Data'])"
   ]
  },
  {
   "cell_type": "code",
   "execution_count": 15,
   "metadata": {},
   "outputs": [
    {
     "name": "stdout",
     "output_type": "stream",
     "text": [
      "xref cantaloupesrvcscmuedu altatheism49960 altatheismmoderated713 newsanswers7054 altanswers126 path cantaloupesrvcscmueducrabapplesrvcscmuedubb3andrewcmuedunewsseicmueducisohiostateedumagnusacsohiostateeduusenetinscwrueduagatespoolmueduuunetpipexibmpcugmantismathew mathew mathewmantiscouk newsgroups altatheismaltatheismmoderatednewsanswersaltanswers subject altatheism faq atheist resources summary books addresses music anything related atheism keywords faq atheism books music fiction addresses contacts messageid 19930329115719mantiscouk date mon 29 mar 1993 115719 gmt expires thu 29 apr 1993 115719 gmt followupto altatheism distribution world organization mantis consultants cambridge uk approved newsanswersrequestmitedu supersedes 19930301143317mantiscouk lines 290 archivename atheismresources altatheismarchivename resources lastmodified 11 december 1992 version 10 atheist resources addresses atheist organizations usa freedom religion foundation darwin fish bumper stickers assorted atheist paraphernalia available freedom religion foundation us write ffrf po box 750 madison wi 53701 telephone 608 2568900 evolution designs evolution designs sell darwin fish fish symbol like ones christians stick cars feet word darwin written inside deluxe moulded 3d plastic fish 495 postpaid us write evolution designs 7119 laurel canyon 4 north hollywood ca 91605 people san francisco bay area get darwin fish lynn gold try mailing figmonetcomcom net people go lynn directly price 495 per fish american atheist press aap publish various atheist books critiques bible lists biblical contradictions one book bible handbook wp ball gw foote american atheist press 372 pp isbn 0910309264 2nd edition 1986 bible contradictions absurdities atrocities immoralities contains ball foote bible contradicts aap based king james version bible write american atheist press po box 140195 austin tx 787140195 7215 cameron road austin tx 787522973 telephone 512 4581244 fax 512 4679525 prometheus books sell books including haughts holy horrors see write 700 east amherst street buffalo new york 14215 telephone 716 8372475 alternate address may newer older prometheus books 59 glenn drive buffalo ny 142282197 africanamericans humanism organization promoting black secular humanism uncovering history black freethought publish quarterly newsletter aah examiner write norm r allen jr african americans humanism po box 664 buffalo ny 14226 united kingdom rationalist press association national secular society 88 islington high street 702 holloway road london n1 8ew london n19 3nl 071 226 7251 071 272 1266 british humanist association south place ethical society 14 lambs conduit passage conway hall london wc1r 4rh red lion square 071 430 0908 london wc1r 4rl fax 071 430 1271 071 831 7723 national secular society publish freethinker monthly magazine founded 1881 germany ibka ev internationaler bund der konfessionslosen und atheisten postfach 880 d1000 berlin 41 germany ibka publish journal miz materialien und informationen zur zeit politisches journal der konfessionslosesn und atheisten hrsg ibka ev mizvertrieb postfach 880 d1000 berlin 41 germany atheist books write ibdk internationaler bucherdienst der konfessionslosen postfach 3005 d3000 hannover 1 germany telephone 0511211216 books fiction thomas disch santa claus compromise short story ultimate proof santa exists characters events fictitious similarity living dead gods uh well walter miller jr canticle leibowitz one gem post atomic doomsday novel monks spent lives copying blueprints saint leibowitz filling sheets paper ink leaving white lines letters edgar pangborn davy post atomic doomsday novel set clerical states church example forbids anyone produce describe use substance containing atoms philip k dick philip k dick dick wrote many philosophical thoughtprovoking short stories novels stories bizarre times approachable wrote mainly sf wrote people truth religion rather technology although often believed met sort god remained sceptical amongst novels following relevance galactic pothealer fallible alien deity summons group earth craftsmen women remote planet raise giant cathedral beneath oceans deity begins demand faith earthers pothealer joe fernwright unable comply polished ironic amusing novel maze death noteworthy description technologybased religion valis schizophrenic hero searches hidden mysteries gnostic christianity reality fired brain pink laser beam unknown possibly divine origin accompanied dogmatic dismissively atheist friend assorted odd characters divine invasion god invades earth making young woman pregnant returns another star system unfortunately terminally ill must assisted dead man whose brain wired 24hour easy listening music margaret atwood handmaids tale story based premise us congress mysteriously assassinated fundamentalists quickly take charge nation set right book diary womans life tries live new christian theocracy womens right property revoked bank accounts closed sinful luxuries outlawed radio used readings bible crimes punished retroactively doctors performed legal abortions old world hunted hanged atwoods writing style difficult get used first tale grows chilling goes various authors bible somewhat dull rambling work often criticized however probably worth reading youll know fuss exists many different versions make sure get one true version books nonfiction peter de rosa vicars christ bantam press 1988 although de rosa seems christian even catholic enlighting history papal immoralities adulteries fallacies etc german translation gottes erste diener die dunkle seite des papsttums droemerknaur 1989 michael martin atheism philosophical justification temple university press philadelphia usa detailed scholarly justification atheism contains outstanding appendix defining terminology usage necessarily tendentious area argues negative atheism ie nonbelief existence gods also positive atheism belief nonexistence gods includes great refutations challenging arguments god particular attention paid refuting contempory theists platinga swinburne 541 pages isbn 0877226423 hardcover paperback also available case christianity temple university press comprehensive critique christianity considers best contemporary defences christianity ultimately demonstrates unsupportable andor incoherent 273 pages isbn 0877227675 james turner without god without creed johns hopkins university press baltimore md usa subtitled origins unbelief america examines way unbelief whether agnostic atheistic became mainstream alternative worldview focusses period 17701900 considering france britain emphasis american particularly new england developments neither religious history secularization atheism without god without creed rather intellectual history fate single idea belief god exists 316 pages isbn hardcover 080182494x paper 0801834074 george seldes editor great thoughts ballantine books new york usa dictionary quotations different kind concentrating statements writings explicitly implicitly present persons philosophy worldview includes obscure often suppressed opinions many people popular observations traces way various people expressed twisted idea centuries quite number quotations derived cardiffs great men think religion noyes views religion 490 pages isbn paper 034529887x richard swinburne existence god revised edition clarendon paperbacks oxford book second volume trilogy began coherence theism 1977 concluded faith reason 1981 work swinburne attempts construct series inductive arguments existence god arguments somewhat tendentious rely upon imputation late 20th century western christian values aesthetics god supposedly simple conceived decisively rejected mackies miracle theism revised edition existence god swinburne includes appendix makes somewhat incoherent attempt rebut mackie j l mackie miracle theism oxford posthumous volume contains comprehensive review principal arguments existence god ranges classical philosophical positions descartes anselm berkeley hume et al moral arguments newman kant sidgwick recent restatements classical theses plantinga swinburne also addresses positions push concept god beyond realm rational kierkegaard kung philips well replacements god lelies axiarchism book delight read less formalistic better written martins works refreshingly direct compared handwaving swinburne james haught holy horrors illustrated history religious murder madness prometheus books looks religious persecution ancient times present day christians library congress catalog card number 8964079 1990 norm r allen jr african american humanism anthology see listing african americans humanism gordon stein anthology atheism rationalism prometheus books anthology covering wide range subjects including devil evil morality history freethought comprehensive bibliography edmund cohen mind biblebeliever prometheus books study people become christian fundamentalists effect net resources theres small mailbased archive server mantiscouk carries archives old altatheismmoderated articles assorted files information send mail archiveservermantiscouk saying help send atheismindex mail back reply mathew\n"
     ]
    }
   ],
   "source": [
    "print(data.loc[0, 'cleaned_data'])"
   ]
  },
  {
   "cell_type": "code",
   "execution_count": 16,
   "metadata": {},
   "outputs": [],
   "source": [
    "#feature extraction using tfidf\n",
    "from sklearn.feature_extraction.text import TfidfVectorizer\n",
    "\n",
    "tfidf = TfidfVectorizer(max_features=5000)\n",
    "x = tfidf.fit_transform(data['cleaned_data']).toarray()\n",
    "y = data['Labels']"
   ]
  },
  {
   "cell_type": "code",
   "execution_count": 17,
   "metadata": {},
   "outputs": [],
   "source": [
    "#split the dataset\n",
    "from sklearn.model_selection import train_test_split\n",
    "\n",
    "x_train, x_test, y_train, y_test = train_test_split(x, y, test_size=0.2, random_state=42)\n"
   ]
  },
  {
   "cell_type": "code",
   "execution_count": 18,
   "metadata": {},
   "outputs": [
    {
     "name": "stdout",
     "output_type": "stream",
     "text": [
      "x_train :  15997\n",
      "x_test :  4000\n",
      "y_train :  15997\n",
      "y_test :  4000\n"
     ]
    }
   ],
   "source": [
    "print('x_train : ',len(x_train))\n",
    "print('x_test : ',len(x_test))\n",
    "print('y_train : ',len(y_train))\n",
    "print('y_test : ',len(y_test))"
   ]
  },
  {
   "cell_type": "code",
   "execution_count": 19,
   "metadata": {},
   "outputs": [
    {
     "name": "stdout",
     "output_type": "stream",
     "text": [
      "Accuracy: 0.87525\n",
      "Precision: 0.8749084984480978\n",
      "Recall: 0.87525\n",
      "F1-Score: 0.8731641027765688\n",
      "                          precision    recall  f1-score   support\n",
      "\n",
      "             alt.atheism       0.70      0.78      0.74       173\n",
      "           comp.graphics       0.76      0.88      0.82       179\n",
      " comp.os.ms-windows.misc       0.87      0.87      0.87       226\n",
      "comp.sys.ibm.pc.hardware       0.84      0.80      0.82       204\n",
      "   comp.sys.mac.hardware       0.87      0.92      0.90       205\n",
      "          comp.windows.x       0.93      0.91      0.92       186\n",
      "            misc.forsale       0.83      0.87      0.85       190\n",
      "               rec.autos       0.91      0.92      0.91       203\n",
      "         rec.motorcycles       0.98      0.92      0.95       218\n",
      "      rec.sport.baseball       0.96      0.97      0.97       192\n",
      "        rec.sport.hockey       0.98      0.98      0.98       203\n",
      "               sci.crypt       0.95      0.94      0.94       200\n",
      "         sci.electronics       0.93      0.88      0.90       227\n",
      "                 sci.med       0.96      0.93      0.95       196\n",
      "               sci.space       0.94      0.93      0.93       205\n",
      "  soc.religion.christian       0.87      0.99      0.92       215\n",
      "      talk.politics.guns       0.79      0.93      0.85       205\n",
      "   talk.politics.mideast       0.93      0.92      0.93       197\n",
      "      talk.politics.misc       0.81      0.66      0.73       200\n",
      "      talk.religion.misc       0.62      0.45      0.52       176\n",
      "\n",
      "                accuracy                           0.88      4000\n",
      "               macro avg       0.87      0.87      0.87      4000\n",
      "            weighted avg       0.87      0.88      0.87      4000\n",
      "\n"
     ]
    }
   ],
   "source": [
    "#performing Naive Bayes Algorithm\n",
    "from sklearn.naive_bayes import MultinomialNB\n",
    "from sklearn.metrics import accuracy_score, precision_score, recall_score, f1_score, classification_report\n",
    "\n",
    "# Train the model\n",
    "nb = MultinomialNB()\n",
    "nb.fit(x_train, y_train)\n",
    "\n",
    "# Make predictions\n",
    "y_pred = nb.predict(x_test)\n",
    "\n",
    "# Evaluate the model\n",
    "accuracy = accuracy_score(y_test, y_pred)\n",
    "precision = precision_score(y_test, y_pred, average='weighted')\n",
    "recall = recall_score(y_test, y_pred, average='weighted')\n",
    "f1 = f1_score(y_test, y_pred, average='weighted')\n",
    "\n",
    "print(f'Accuracy: {accuracy}')\n",
    "print(f'Precision: {precision}')\n",
    "print(f'Recall: {recall}')\n",
    "print(f'F1-Score: {f1}')\n",
    "print(classification_report(y_test, y_pred))\n"
   ]
  },
  {
   "cell_type": "code",
   "execution_count": 20,
   "metadata": {},
   "outputs": [
    {
     "name": "stderr",
     "output_type": "stream",
     "text": [
      "[nltk_data] Downloading package vader_lexicon to\n",
      "[nltk_data]     C:\\Users\\sheetal\\AppData\\Roaming\\nltk_data...\n",
      "[nltk_data]   Package vader_lexicon is already up-to-date!\n"
     ]
    },
    {
     "name": "stdout",
     "output_type": "stream",
     "text": [
      "   Unnamed: 0                                               Data       Labels  \\\n",
      "0           0  Xref: cantaloupe.srv.cs.cmu.edu alt.atheism:49...  alt.atheism   \n",
      "1           1  Xref: cantaloupe.srv.cs.cmu.edu alt.atheism:51...  alt.atheism   \n",
      "2           2  Newsgroups: alt.atheism\\nPath: cantaloupe.srv....  alt.atheism   \n",
      "3           3  Xref: cantaloupe.srv.cs.cmu.edu alt.atheism:51...  alt.atheism   \n",
      "4           4  Xref: cantaloupe.srv.cs.cmu.edu alt.atheism:51...  alt.atheism   \n",
      "\n",
      "   text_length                                       cleaned_data sentiment  \n",
      "0        12424  xref cantaloupesrvcscmuedu altatheism49960 alt...  positive  \n",
      "1        32530  xref cantaloupesrvcscmuedu altatheism51060 alt...  positive  \n",
      "2         4550  newsgroups altatheism path cantaloupesrvcscmue...  negative  \n",
      "3         2067  xref cantaloupesrvcscmuedu altatheism51120 alt...  positive  \n",
      "4         1347  xref cantaloupesrvcscmuedu altatheism51121 soc...  negative  \n"
     ]
    }
   ],
   "source": [
    "from nltk.sentiment.vader import SentimentIntensityAnalyzer\n",
    "\n",
    "nltk.download('vader_lexicon')\n",
    "sia = SentimentIntensityAnalyzer()\n",
    "\n",
    "# Analyze sentiments\n",
    "def get_sentiment(text):\n",
    "    scores = sia.polarity_scores(text)\n",
    "    if scores['compound'] >= 0.05:\n",
    "        return 'positive'\n",
    "    elif scores['compound'] <= -0.05:\n",
    "        return 'negative'\n",
    "    else:\n",
    "        return 'neutral'\n",
    "\n",
    "data['sentiment'] = data['Data'].apply(get_sentiment)\n",
    "print(data.head())"
   ]
  },
  {
   "cell_type": "code",
   "execution_count": 21,
   "metadata": {},
   "outputs": [
    {
     "name": "stdout",
     "output_type": "stream",
     "text": [
      "positive    13307\n",
      "negative     6199\n",
      "neutral       491\n",
      "Name: sentiment, dtype: int64\n",
      "sentiment                 negative  neutral  positive\n",
      "Labels                                               \n",
      "alt.atheism                    379        8       613\n",
      "comp.graphics                  123       47       830\n",
      "comp.os.ms-windows.misc        204       45       751\n",
      "comp.sys.ibm.pc.hardware       218       19       763\n",
      "comp.sys.mac.hardware          243       47       710\n",
      "comp.windows.x                 226       40       734\n",
      "misc.forsale                   126       70       804\n",
      "rec.autos                      304       28       668\n",
      "rec.motorcycles                311       20       669\n",
      "rec.sport.baseball             228       39       733\n",
      "rec.sport.hockey               259       16       725\n",
      "sci.crypt                      300        7       693\n",
      "sci.electronics                178       36       786\n",
      "sci.med                        346       22       632\n",
      "sci.space                      271       21       708\n",
      "soc.religion.christian         260        0       737\n",
      "talk.politics.guns             659       10       331\n",
      "talk.politics.mideast          649        6       345\n",
      "talk.politics.misc             526        4       470\n",
      "talk.religion.misc             389        6       605\n"
     ]
    }
   ],
   "source": [
    "# Distribution of sentiments\n",
    "print(data['sentiment'].value_counts())\n",
    "\n",
    "# Sentiment distribution across categories\n",
    "sentiment_distribution = data.groupby(['Labels','sentiment']).size().unstack(fill_value=0)\n",
    "print(sentiment_distribution)"
   ]
  },
  {
   "cell_type": "code",
   "execution_count": null,
   "metadata": {},
   "outputs": [],
   "source": []
  }
 ],
 "metadata": {
  "kernelspec": {
   "display_name": "base",
   "language": "python",
   "name": "python3"
  },
  "language_info": {
   "codemirror_mode": {
    "name": "ipython",
    "version": 3
   },
   "file_extension": ".py",
   "mimetype": "text/x-python",
   "name": "python",
   "nbconvert_exporter": "python",
   "pygments_lexer": "ipython3",
   "version": "3.10.9"
  }
 },
 "nbformat": 4,
 "nbformat_minor": 2
}
