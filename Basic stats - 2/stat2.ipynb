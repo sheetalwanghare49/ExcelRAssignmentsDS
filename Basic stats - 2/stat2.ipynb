{
 "cells": [
  {
   "cell_type": "code",
   "execution_count": 1,
   "metadata": {},
   "outputs": [],
   "source": [
    "import numpy as np\n",
    "import scipy.stats as stats"
   ]
  },
  {
   "cell_type": "code",
   "execution_count": 2,
   "metadata": {},
   "outputs": [],
   "source": [
    "#A total of 15 print-heads were randomly selected and tested until failure. The durability of each print-head \n",
    "# (in millions of characters) was recorded as follows:\n",
    "\n",
    "data = [1.13, 1.55, 1.43, 0.92, 1.25, 1.36, 1.32, 0.85, 1.07, 1.48, 1.20, 1.33, 1.18, 1.22, 1.29]"
   ]
  },
  {
   "cell_type": "code",
   "execution_count": 3,
   "metadata": {},
   "outputs": [],
   "source": [
    "# Sample statistics\n",
    "sample_mean = np.mean(data)\n",
    "sample_std = np.std(data, ddof=1)\n",
    "n = len(data)\n",
    "confidence_level = 0.99\n",
    "\n",
    "# a. 99% Confidence Interval Using Sample Standard Deviation\n",
    "t_critical = stats.t.ppf((1 + confidence_level) / 2, df=n-1)\n",
    "margin_of_error_sample = t_critical * (sample_std / np.sqrt(n))\n",
    "ci_sample = (sample_mean - margin_of_error_sample, sample_mean + margin_of_error_sample)"
   ]
  },
  {
   "cell_type": "code",
   "execution_count": 4,
   "metadata": {},
   "outputs": [
    {
     "name": "stdout",
     "output_type": "stream",
     "text": [
      "Sample Mean: 1.2387\n",
      "Sample Standard Deviation: 0.1932\n",
      "t-critical value (99% CI): 2.9768\n",
      "Margin of Error (Sample): 0.1485\n",
      "99% Confidence Interval (Sample Std Dev): (1.090197338451367, 1.3871359948819662)\n"
     ]
    }
   ],
   "source": [
    "# Output results\n",
    "print(f\"Sample Mean: {sample_mean:.4f}\")\n",
    "print(f\"Sample Standard Deviation: {sample_std:.4f}\")\n",
    "print(f\"t-critical value (99% CI): {t_critical:.4f}\")\n",
    "print(f\"Margin of Error (Sample): {margin_of_error_sample:.4f}\")\n",
    "print(f\"99% Confidence Interval (Sample Std Dev): {ci_sample}\")"
   ]
  },
  {
   "cell_type": "code",
   "execution_count": 5,
   "metadata": {},
   "outputs": [],
   "source": [
    "#This interval is wider because it accounts for the uncertainty in estimating the population standard deviation from the sample."
   ]
  },
  {
   "cell_type": "code",
   "execution_count": null,
   "metadata": {},
   "outputs": [],
   "source": []
  },
  {
   "cell_type": "code",
   "execution_count": 6,
   "metadata": {},
   "outputs": [],
   "source": [
    "# b. 99% Confidence Interval Using Known Population Standard Deviation\n",
    "population_std = 0.2\n",
    "z_critical = stats.norm.ppf((1 + confidence_level) / 2)\n",
    "margin_of_error_population = z_critical * (population_std / np.sqrt(n))\n",
    "ci_population = (sample_mean - margin_of_error_population, sample_mean + margin_of_error_population)"
   ]
  },
  {
   "cell_type": "code",
   "execution_count": 10,
   "metadata": {},
   "outputs": [
    {
     "name": "stdout",
     "output_type": "stream",
     "text": [
      "\n",
      "Population Standard Deviation: 0.2000\n",
      "z-critical value (99% CI): 2.5758\n",
      "Margin of Error (Population): 0.1330\n",
      "99% Confidence Interval (Population Std Dev): (1.1056514133957607, 1.3716819199375725)\n"
     ]
    }
   ],
   "source": [
    "print(f\"\\nPopulation Standard Deviation: {population_std:.4f}\")\n",
    "print(f\"z-critical value (99% CI): {z_critical:.4f}\")\n",
    "print(f\"Margin of Error (Population): {margin_of_error_population:.4f}\")\n",
    "print(f\"99% Confidence Interval (Population Std Dev): {ci_population}\")"
   ]
  },
  {
   "cell_type": "code",
   "execution_count": 8,
   "metadata": {},
   "outputs": [],
   "source": [
    "#This interval is narrower because it uses the known population standard deviation, which reduces the uncertainty in the estimation."
   ]
  },
  {
   "cell_type": "code",
   "execution_count": null,
   "metadata": {},
   "outputs": [],
   "source": [
    "#both intervals provide useful estimates of the mean durability"
   ]
  }
 ],
 "metadata": {
  "kernelspec": {
   "display_name": "base",
   "language": "python",
   "name": "python3"
  },
  "language_info": {
   "codemirror_mode": {
    "name": "ipython",
    "version": 3
   },
   "file_extension": ".py",
   "mimetype": "text/x-python",
   "name": "python",
   "nbconvert_exporter": "python",
   "pygments_lexer": "ipython3",
   "version": "3.10.9"
  }
 },
 "nbformat": 4,
 "nbformat_minor": 2
}
