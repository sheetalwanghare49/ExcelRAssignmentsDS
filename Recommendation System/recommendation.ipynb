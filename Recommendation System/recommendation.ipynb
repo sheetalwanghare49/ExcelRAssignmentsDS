{
 "cells": [
  {
   "cell_type": "code",
   "execution_count": 1,
   "metadata": {},
   "outputs": [],
   "source": [
    "#import the libraries\n",
    "import pandas as pd\n",
    "import difflib\n",
    "from sklearn.feature_extraction.text import TfidfVectorizer\n",
    "from sklearn.metrics.pairwise import cosine_similarity"
   ]
  },
  {
   "cell_type": "code",
   "execution_count": 2,
   "metadata": {},
   "outputs": [],
   "source": [
    "#read the data\n",
    "data = pd.read_csv('anime.csv')"
   ]
  },
  {
   "cell_type": "code",
   "execution_count": 3,
   "metadata": {},
   "outputs": [
    {
     "data": {
      "text/html": [
       "<div>\n",
       "<style scoped>\n",
       "    .dataframe tbody tr th:only-of-type {\n",
       "        vertical-align: middle;\n",
       "    }\n",
       "\n",
       "    .dataframe tbody tr th {\n",
       "        vertical-align: top;\n",
       "    }\n",
       "\n",
       "    .dataframe thead th {\n",
       "        text-align: right;\n",
       "    }\n",
       "</style>\n",
       "<table border=\"1\" class=\"dataframe\">\n",
       "  <thead>\n",
       "    <tr style=\"text-align: right;\">\n",
       "      <th></th>\n",
       "      <th>anime_id</th>\n",
       "      <th>name</th>\n",
       "      <th>genre</th>\n",
       "      <th>type</th>\n",
       "      <th>episodes</th>\n",
       "      <th>rating</th>\n",
       "      <th>members</th>\n",
       "    </tr>\n",
       "  </thead>\n",
       "  <tbody>\n",
       "    <tr>\n",
       "      <th>0</th>\n",
       "      <td>32281</td>\n",
       "      <td>Kimi no Na wa.</td>\n",
       "      <td>Drama, Romance, School, Supernatural</td>\n",
       "      <td>Movie</td>\n",
       "      <td>1</td>\n",
       "      <td>9.37</td>\n",
       "      <td>200630</td>\n",
       "    </tr>\n",
       "    <tr>\n",
       "      <th>1</th>\n",
       "      <td>5114</td>\n",
       "      <td>Fullmetal Alchemist: Brotherhood</td>\n",
       "      <td>Action, Adventure, Drama, Fantasy, Magic, Mili...</td>\n",
       "      <td>TV</td>\n",
       "      <td>64</td>\n",
       "      <td>9.26</td>\n",
       "      <td>793665</td>\n",
       "    </tr>\n",
       "    <tr>\n",
       "      <th>2</th>\n",
       "      <td>28977</td>\n",
       "      <td>Gintama°</td>\n",
       "      <td>Action, Comedy, Historical, Parody, Samurai, S...</td>\n",
       "      <td>TV</td>\n",
       "      <td>51</td>\n",
       "      <td>9.25</td>\n",
       "      <td>114262</td>\n",
       "    </tr>\n",
       "    <tr>\n",
       "      <th>3</th>\n",
       "      <td>9253</td>\n",
       "      <td>Steins;Gate</td>\n",
       "      <td>Sci-Fi, Thriller</td>\n",
       "      <td>TV</td>\n",
       "      <td>24</td>\n",
       "      <td>9.17</td>\n",
       "      <td>673572</td>\n",
       "    </tr>\n",
       "    <tr>\n",
       "      <th>4</th>\n",
       "      <td>9969</td>\n",
       "      <td>Gintama&amp;#039;</td>\n",
       "      <td>Action, Comedy, Historical, Parody, Samurai, S...</td>\n",
       "      <td>TV</td>\n",
       "      <td>51</td>\n",
       "      <td>9.16</td>\n",
       "      <td>151266</td>\n",
       "    </tr>\n",
       "  </tbody>\n",
       "</table>\n",
       "</div>"
      ],
      "text/plain": [
       "   anime_id                              name  \\\n",
       "0     32281                    Kimi no Na wa.   \n",
       "1      5114  Fullmetal Alchemist: Brotherhood   \n",
       "2     28977                          Gintama°   \n",
       "3      9253                       Steins;Gate   \n",
       "4      9969                     Gintama&#039;   \n",
       "\n",
       "                                               genre   type episodes  rating  \\\n",
       "0               Drama, Romance, School, Supernatural  Movie        1    9.37   \n",
       "1  Action, Adventure, Drama, Fantasy, Magic, Mili...     TV       64    9.26   \n",
       "2  Action, Comedy, Historical, Parody, Samurai, S...     TV       51    9.25   \n",
       "3                                   Sci-Fi, Thriller     TV       24    9.17   \n",
       "4  Action, Comedy, Historical, Parody, Samurai, S...     TV       51    9.16   \n",
       "\n",
       "   members  \n",
       "0   200630  \n",
       "1   793665  \n",
       "2   114262  \n",
       "3   673572  \n",
       "4   151266  "
      ]
     },
     "execution_count": 3,
     "metadata": {},
     "output_type": "execute_result"
    }
   ],
   "source": [
    "data.head()"
   ]
  },
  {
   "cell_type": "code",
   "execution_count": 4,
   "metadata": {},
   "outputs": [],
   "source": [
    "data = data.reset_index()"
   ]
  },
  {
   "cell_type": "code",
   "execution_count": 5,
   "metadata": {},
   "outputs": [
    {
     "data": {
      "text/html": [
       "<div>\n",
       "<style scoped>\n",
       "    .dataframe tbody tr th:only-of-type {\n",
       "        vertical-align: middle;\n",
       "    }\n",
       "\n",
       "    .dataframe tbody tr th {\n",
       "        vertical-align: top;\n",
       "    }\n",
       "\n",
       "    .dataframe thead th {\n",
       "        text-align: right;\n",
       "    }\n",
       "</style>\n",
       "<table border=\"1\" class=\"dataframe\">\n",
       "  <thead>\n",
       "    <tr style=\"text-align: right;\">\n",
       "      <th></th>\n",
       "      <th>index</th>\n",
       "      <th>anime_id</th>\n",
       "      <th>name</th>\n",
       "      <th>genre</th>\n",
       "      <th>type</th>\n",
       "      <th>episodes</th>\n",
       "      <th>rating</th>\n",
       "      <th>members</th>\n",
       "    </tr>\n",
       "  </thead>\n",
       "  <tbody>\n",
       "    <tr>\n",
       "      <th>0</th>\n",
       "      <td>0</td>\n",
       "      <td>32281</td>\n",
       "      <td>Kimi no Na wa.</td>\n",
       "      <td>Drama, Romance, School, Supernatural</td>\n",
       "      <td>Movie</td>\n",
       "      <td>1</td>\n",
       "      <td>9.37</td>\n",
       "      <td>200630</td>\n",
       "    </tr>\n",
       "    <tr>\n",
       "      <th>1</th>\n",
       "      <td>1</td>\n",
       "      <td>5114</td>\n",
       "      <td>Fullmetal Alchemist: Brotherhood</td>\n",
       "      <td>Action, Adventure, Drama, Fantasy, Magic, Mili...</td>\n",
       "      <td>TV</td>\n",
       "      <td>64</td>\n",
       "      <td>9.26</td>\n",
       "      <td>793665</td>\n",
       "    </tr>\n",
       "    <tr>\n",
       "      <th>2</th>\n",
       "      <td>2</td>\n",
       "      <td>28977</td>\n",
       "      <td>Gintama°</td>\n",
       "      <td>Action, Comedy, Historical, Parody, Samurai, S...</td>\n",
       "      <td>TV</td>\n",
       "      <td>51</td>\n",
       "      <td>9.25</td>\n",
       "      <td>114262</td>\n",
       "    </tr>\n",
       "    <tr>\n",
       "      <th>3</th>\n",
       "      <td>3</td>\n",
       "      <td>9253</td>\n",
       "      <td>Steins;Gate</td>\n",
       "      <td>Sci-Fi, Thriller</td>\n",
       "      <td>TV</td>\n",
       "      <td>24</td>\n",
       "      <td>9.17</td>\n",
       "      <td>673572</td>\n",
       "    </tr>\n",
       "    <tr>\n",
       "      <th>4</th>\n",
       "      <td>4</td>\n",
       "      <td>9969</td>\n",
       "      <td>Gintama&amp;#039;</td>\n",
       "      <td>Action, Comedy, Historical, Parody, Samurai, S...</td>\n",
       "      <td>TV</td>\n",
       "      <td>51</td>\n",
       "      <td>9.16</td>\n",
       "      <td>151266</td>\n",
       "    </tr>\n",
       "    <tr>\n",
       "      <th>...</th>\n",
       "      <td>...</td>\n",
       "      <td>...</td>\n",
       "      <td>...</td>\n",
       "      <td>...</td>\n",
       "      <td>...</td>\n",
       "      <td>...</td>\n",
       "      <td>...</td>\n",
       "      <td>...</td>\n",
       "    </tr>\n",
       "    <tr>\n",
       "      <th>12289</th>\n",
       "      <td>12289</td>\n",
       "      <td>9316</td>\n",
       "      <td>Toushindai My Lover: Minami tai Mecha-Minami</td>\n",
       "      <td>Hentai</td>\n",
       "      <td>OVA</td>\n",
       "      <td>1</td>\n",
       "      <td>4.15</td>\n",
       "      <td>211</td>\n",
       "    </tr>\n",
       "    <tr>\n",
       "      <th>12290</th>\n",
       "      <td>12290</td>\n",
       "      <td>5543</td>\n",
       "      <td>Under World</td>\n",
       "      <td>Hentai</td>\n",
       "      <td>OVA</td>\n",
       "      <td>1</td>\n",
       "      <td>4.28</td>\n",
       "      <td>183</td>\n",
       "    </tr>\n",
       "    <tr>\n",
       "      <th>12291</th>\n",
       "      <td>12291</td>\n",
       "      <td>5621</td>\n",
       "      <td>Violence Gekiga David no Hoshi</td>\n",
       "      <td>Hentai</td>\n",
       "      <td>OVA</td>\n",
       "      <td>4</td>\n",
       "      <td>4.88</td>\n",
       "      <td>219</td>\n",
       "    </tr>\n",
       "    <tr>\n",
       "      <th>12292</th>\n",
       "      <td>12292</td>\n",
       "      <td>6133</td>\n",
       "      <td>Violence Gekiga Shin David no Hoshi: Inma Dens...</td>\n",
       "      <td>Hentai</td>\n",
       "      <td>OVA</td>\n",
       "      <td>1</td>\n",
       "      <td>4.98</td>\n",
       "      <td>175</td>\n",
       "    </tr>\n",
       "    <tr>\n",
       "      <th>12293</th>\n",
       "      <td>12293</td>\n",
       "      <td>26081</td>\n",
       "      <td>Yasuji no Pornorama: Yacchimae!!</td>\n",
       "      <td>Hentai</td>\n",
       "      <td>Movie</td>\n",
       "      <td>1</td>\n",
       "      <td>5.46</td>\n",
       "      <td>142</td>\n",
       "    </tr>\n",
       "  </tbody>\n",
       "</table>\n",
       "<p>12294 rows × 8 columns</p>\n",
       "</div>"
      ],
      "text/plain": [
       "       index  anime_id                                               name  \\\n",
       "0          0     32281                                     Kimi no Na wa.   \n",
       "1          1      5114                   Fullmetal Alchemist: Brotherhood   \n",
       "2          2     28977                                           Gintama°   \n",
       "3          3      9253                                        Steins;Gate   \n",
       "4          4      9969                                      Gintama&#039;   \n",
       "...      ...       ...                                                ...   \n",
       "12289  12289      9316       Toushindai My Lover: Minami tai Mecha-Minami   \n",
       "12290  12290      5543                                        Under World   \n",
       "12291  12291      5621                     Violence Gekiga David no Hoshi   \n",
       "12292  12292      6133  Violence Gekiga Shin David no Hoshi: Inma Dens...   \n",
       "12293  12293     26081                   Yasuji no Pornorama: Yacchimae!!   \n",
       "\n",
       "                                                   genre   type episodes  \\\n",
       "0                   Drama, Romance, School, Supernatural  Movie        1   \n",
       "1      Action, Adventure, Drama, Fantasy, Magic, Mili...     TV       64   \n",
       "2      Action, Comedy, Historical, Parody, Samurai, S...     TV       51   \n",
       "3                                       Sci-Fi, Thriller     TV       24   \n",
       "4      Action, Comedy, Historical, Parody, Samurai, S...     TV       51   \n",
       "...                                                  ...    ...      ...   \n",
       "12289                                             Hentai    OVA        1   \n",
       "12290                                             Hentai    OVA        1   \n",
       "12291                                             Hentai    OVA        4   \n",
       "12292                                             Hentai    OVA        1   \n",
       "12293                                             Hentai  Movie        1   \n",
       "\n",
       "       rating  members  \n",
       "0        9.37   200630  \n",
       "1        9.26   793665  \n",
       "2        9.25   114262  \n",
       "3        9.17   673572  \n",
       "4        9.16   151266  \n",
       "...       ...      ...  \n",
       "12289    4.15      211  \n",
       "12290    4.28      183  \n",
       "12291    4.88      219  \n",
       "12292    4.98      175  \n",
       "12293    5.46      142  \n",
       "\n",
       "[12294 rows x 8 columns]"
      ]
     },
     "execution_count": 5,
     "metadata": {},
     "output_type": "execute_result"
    }
   ],
   "source": [
    "data"
   ]
  },
  {
   "cell_type": "code",
   "execution_count": 6,
   "metadata": {},
   "outputs": [
    {
     "data": {
      "text/plain": [
       "(12294, 8)"
      ]
     },
     "execution_count": 6,
     "metadata": {},
     "output_type": "execute_result"
    }
   ],
   "source": [
    "data.shape"
   ]
  },
  {
   "cell_type": "code",
   "execution_count": 7,
   "metadata": {},
   "outputs": [
    {
     "data": {
      "text/plain": [
       "34527"
      ]
     },
     "execution_count": 7,
     "metadata": {},
     "output_type": "execute_result"
    }
   ],
   "source": [
    "data.anime_id.max()"
   ]
  },
  {
   "cell_type": "code",
   "execution_count": 8,
   "metadata": {},
   "outputs": [
    {
     "data": {
      "text/plain": [
       "1.67"
      ]
     },
     "execution_count": 8,
     "metadata": {},
     "output_type": "execute_result"
    }
   ],
   "source": [
    "data.rating.min()"
   ]
  },
  {
   "cell_type": "code",
   "execution_count": 9,
   "metadata": {},
   "outputs": [
    {
     "data": {
      "text/html": [
       "<div>\n",
       "<style scoped>\n",
       "    .dataframe tbody tr th:only-of-type {\n",
       "        vertical-align: middle;\n",
       "    }\n",
       "\n",
       "    .dataframe tbody tr th {\n",
       "        vertical-align: top;\n",
       "    }\n",
       "\n",
       "    .dataframe thead th {\n",
       "        text-align: right;\n",
       "    }\n",
       "</style>\n",
       "<table border=\"1\" class=\"dataframe\">\n",
       "  <thead>\n",
       "    <tr style=\"text-align: right;\">\n",
       "      <th></th>\n",
       "      <th>index</th>\n",
       "      <th>anime_id</th>\n",
       "      <th>rating</th>\n",
       "      <th>members</th>\n",
       "    </tr>\n",
       "  </thead>\n",
       "  <tbody>\n",
       "    <tr>\n",
       "      <th>count</th>\n",
       "      <td>12294.000000</td>\n",
       "      <td>12294.000000</td>\n",
       "      <td>12064.000000</td>\n",
       "      <td>1.229400e+04</td>\n",
       "    </tr>\n",
       "    <tr>\n",
       "      <th>mean</th>\n",
       "      <td>6146.500000</td>\n",
       "      <td>14058.221653</td>\n",
       "      <td>6.473902</td>\n",
       "      <td>1.807134e+04</td>\n",
       "    </tr>\n",
       "    <tr>\n",
       "      <th>std</th>\n",
       "      <td>3549.116439</td>\n",
       "      <td>11455.294701</td>\n",
       "      <td>1.026746</td>\n",
       "      <td>5.482068e+04</td>\n",
       "    </tr>\n",
       "    <tr>\n",
       "      <th>min</th>\n",
       "      <td>0.000000</td>\n",
       "      <td>1.000000</td>\n",
       "      <td>1.670000</td>\n",
       "      <td>5.000000e+00</td>\n",
       "    </tr>\n",
       "    <tr>\n",
       "      <th>25%</th>\n",
       "      <td>3073.250000</td>\n",
       "      <td>3484.250000</td>\n",
       "      <td>5.880000</td>\n",
       "      <td>2.250000e+02</td>\n",
       "    </tr>\n",
       "    <tr>\n",
       "      <th>50%</th>\n",
       "      <td>6146.500000</td>\n",
       "      <td>10260.500000</td>\n",
       "      <td>6.570000</td>\n",
       "      <td>1.550000e+03</td>\n",
       "    </tr>\n",
       "    <tr>\n",
       "      <th>75%</th>\n",
       "      <td>9219.750000</td>\n",
       "      <td>24794.500000</td>\n",
       "      <td>7.180000</td>\n",
       "      <td>9.437000e+03</td>\n",
       "    </tr>\n",
       "    <tr>\n",
       "      <th>max</th>\n",
       "      <td>12293.000000</td>\n",
       "      <td>34527.000000</td>\n",
       "      <td>10.000000</td>\n",
       "      <td>1.013917e+06</td>\n",
       "    </tr>\n",
       "  </tbody>\n",
       "</table>\n",
       "</div>"
      ],
      "text/plain": [
       "              index      anime_id        rating       members\n",
       "count  12294.000000  12294.000000  12064.000000  1.229400e+04\n",
       "mean    6146.500000  14058.221653      6.473902  1.807134e+04\n",
       "std     3549.116439  11455.294701      1.026746  5.482068e+04\n",
       "min        0.000000      1.000000      1.670000  5.000000e+00\n",
       "25%     3073.250000   3484.250000      5.880000  2.250000e+02\n",
       "50%     6146.500000  10260.500000      6.570000  1.550000e+03\n",
       "75%     9219.750000  24794.500000      7.180000  9.437000e+03\n",
       "max    12293.000000  34527.000000     10.000000  1.013917e+06"
      ]
     },
     "execution_count": 9,
     "metadata": {},
     "output_type": "execute_result"
    }
   ],
   "source": [
    "data.describe()"
   ]
  },
  {
   "cell_type": "code",
   "execution_count": 10,
   "metadata": {},
   "outputs": [
    {
     "data": {
      "text/plain": [
       "index         0\n",
       "anime_id      0\n",
       "name          0\n",
       "genre        62\n",
       "type         25\n",
       "episodes      0\n",
       "rating      230\n",
       "members       0\n",
       "dtype: int64"
      ]
     },
     "execution_count": 10,
     "metadata": {},
     "output_type": "execute_result"
    }
   ],
   "source": [
    "#checking for null values\n",
    "data.isnull().sum()"
   ]
  },
  {
   "cell_type": "code",
   "execution_count": 11,
   "metadata": {},
   "outputs": [],
   "source": [
    "#rating -- 230/12294=0.018 \n",
    "#less than 20% so fill the missing values\n",
    "data['rating'].fillna(data['rating'].mean(),inplace=True)"
   ]
  },
  {
   "cell_type": "code",
   "execution_count": 12,
   "metadata": {},
   "outputs": [],
   "source": [
    "#filling categorical value\n",
    "for value in ['genre','type']:\n",
    "    data[value].fillna(data[value].mode()[0],inplace=True)"
   ]
  },
  {
   "cell_type": "code",
   "execution_count": 13,
   "metadata": {},
   "outputs": [
    {
     "data": {
      "text/plain": [
       "index       0\n",
       "anime_id    0\n",
       "name        0\n",
       "genre       0\n",
       "type        0\n",
       "episodes    0\n",
       "rating      0\n",
       "members     0\n",
       "dtype: int64"
      ]
     },
     "execution_count": 13,
     "metadata": {},
     "output_type": "execute_result"
    }
   ],
   "source": [
    "data.isnull().sum()"
   ]
  },
  {
   "cell_type": "code",
   "execution_count": 14,
   "metadata": {},
   "outputs": [
    {
     "name": "stdout",
     "output_type": "stream",
     "text": [
      "Unique values for column: index\n",
      "\n",
      "[    0     1     2 ... 12291 12292 12293]\n",
      "\n",
      "Unique values for column: anime_id\n",
      "\n",
      "[32281  5114 28977 ...  5621  6133 26081]\n",
      "\n",
      "Unique values for column: name\n",
      "\n",
      "['Kimi no Na wa.' 'Fullmetal Alchemist: Brotherhood' 'Gintama°' ...\n",
      " 'Violence Gekiga David no Hoshi'\n",
      " 'Violence Gekiga Shin David no Hoshi: Inma Densetsu'\n",
      " 'Yasuji no Pornorama: Yacchimae!!']\n",
      "\n",
      "Unique values for column: genre\n",
      "\n",
      "['Drama, Romance, School, Supernatural'\n",
      " 'Action, Adventure, Drama, Fantasy, Magic, Military, Shounen'\n",
      " 'Action, Comedy, Historical, Parody, Samurai, Sci-Fi, Shounen' ...\n",
      " 'Hentai, Sports' 'Drama, Romance, School, Yuri' 'Hentai, Slice of Life']\n",
      "\n",
      "Unique values for column: type\n",
      "\n",
      "['Movie' 'TV' 'OVA' 'Special' 'Music' 'ONA']\n",
      "\n",
      "Unique values for column: episodes\n",
      "\n",
      "['1' '64' '51' '24' '10' '148' '110' '13' '201' '25' '22' '75' '4' '26'\n",
      " '12' '27' '43' '74' '37' '2' '11' '99' 'Unknown' '39' '101' '47' '50'\n",
      " '62' '33' '112' '23' '3' '94' '6' '8' '14' '7' '40' '15' '203' '77' '291'\n",
      " '120' '102' '96' '38' '79' '175' '103' '70' '153' '45' '5' '21' '63' '52'\n",
      " '28' '145' '36' '69' '60' '178' '114' '35' '61' '34' '109' '20' '9' '49'\n",
      " '366' '97' '48' '78' '358' '155' '104' '113' '54' '167' '161' '42' '142'\n",
      " '31' '373' '220' '46' '195' '17' '1787' '73' '147' '127' '16' '19' '98'\n",
      " '150' '76' '53' '124' '29' '115' '224' '44' '58' '93' '154' '92' '67'\n",
      " '172' '86' '30' '276' '59' '72' '330' '41' '105' '128' '137' '56' '55'\n",
      " '65' '243' '193' '18' '191' '180' '91' '192' '66' '182' '32' '164' '100'\n",
      " '296' '694' '95' '68' '117' '151' '130' '87' '170' '119' '84' '108' '156'\n",
      " '140' '331' '305' '300' '510' '200' '88' '1471' '526' '143' '726' '136'\n",
      " '1818' '237' '1428' '365' '163' '283' '71' '260' '199' '225' '312' '240'\n",
      " '1306' '1565' '773' '1274' '90' '475' '263' '83' '85' '1006' '80' '162'\n",
      " '132' '141' '125']\n",
      "\n",
      "Unique values for column: rating\n",
      "\n",
      "[ 9.37        9.26        9.25        9.17        9.16        9.15\n",
      "  9.13        9.11        9.1         9.06        9.05        9.04\n",
      "  8.98        8.93        8.92        8.88        8.84        8.83\n",
      "  8.82        8.81        8.8         8.78        8.77        8.76\n",
      "  8.75        8.74        8.73        8.72        8.71        8.69\n",
      "  8.68        8.67        8.66        8.65        8.64        8.62\n",
      "  8.61        8.6         8.59        8.58        8.57        8.56\n",
      "  8.55        8.54        8.53        8.52        8.51        8.5\n",
      "  8.49        8.48        8.47        8.46        8.45        8.44\n",
      "  8.43        8.42        8.41        8.4         8.39        8.38\n",
      "  8.37        8.36        8.35        8.34        8.33        8.32\n",
      "  8.31        8.3         8.29        8.28        8.27        8.26\n",
      "  8.25        8.24        8.23        8.22        8.21        8.2\n",
      "  8.19        8.18        8.17        8.16        8.15        8.14\n",
      "  8.13        8.12        8.11        8.1         8.09        8.08\n",
      "  8.07        8.06        8.05        8.04        8.03        8.02\n",
      "  8.01        8.          7.99        7.98        7.97        7.96\n",
      "  7.95        7.94        7.93        7.92        7.91        7.9\n",
      "  7.89        7.88        7.87        7.86        7.85        7.84\n",
      "  7.83        7.82        7.81        7.8         7.79        7.78\n",
      "  7.77        7.76        7.75        7.74        7.73        7.72\n",
      "  7.71        7.7         7.69        7.68        7.67        7.66\n",
      "  7.65        7.64        7.63        7.62        7.61        7.6\n",
      "  7.59        7.58        7.57        7.56        7.55        7.54\n",
      "  7.53        7.52        7.51        7.5         7.49        7.48\n",
      "  7.47        7.46        7.45        7.44        7.43        7.42\n",
      "  7.41        7.4         7.39        7.38        7.37        7.36\n",
      "  7.35        7.34        7.33        7.32        7.31        7.3\n",
      "  7.29        7.28        7.27        7.25        7.26        7.24\n",
      "  7.23        7.22        7.21        7.2         7.19        7.18\n",
      "  7.17        7.16        7.14        7.15        7.13        7.12\n",
      "  7.11        7.1         7.09        7.08        7.07        7.06\n",
      "  7.05        7.04        7.03        7.02        7.01        7.\n",
      "  6.99        6.98        6.97        6.96        6.95        6.94\n",
      "  6.93        6.92        6.91        6.9         6.89        6.88\n",
      "  6.87        6.86        6.85        6.84        6.83        6.82\n",
      "  6.81        6.8         6.79        6.78        6.75        6.77\n",
      "  6.76        6.74        6.73        6.72        6.71        6.7\n",
      "  6.69        6.68        6.67        6.66        6.65        6.64\n",
      "  6.63        6.62        6.61        6.6         6.59        6.58\n",
      "  6.57        6.56        6.55        6.54        6.53        6.52\n",
      "  6.51        6.47        6.5         6.49        6.48        6.46\n",
      "  6.45        6.42        6.44        6.43        6.39        6.41\n",
      "  6.4         6.38        6.37        6.35        6.36        6.34\n",
      "  6.33        6.32        6.31        6.3         6.29        6.28\n",
      "  6.27        6.26        6.25        6.22        6.24        6.23\n",
      "  6.21        6.2         6.19        6.18        6.17        6.16\n",
      "  6.15        6.14        6.13        6.12        6.1         6.11\n",
      "  6.09        6.08        6.06        6.07        6.05        6.04\n",
      "  6.03        6.01        6.02        6.          5.99        5.98\n",
      "  5.97        5.96        5.95        5.94        5.93        5.92\n",
      "  5.91        5.89        5.9         5.88        5.87        5.86\n",
      "  5.85        5.84        5.83        5.82        5.81        5.8\n",
      "  5.79        5.78        5.77        5.76        5.75        5.74\n",
      "  5.73        5.72        5.7         5.71        5.69        5.68\n",
      "  5.67        5.66        5.65        5.64        5.63        5.62\n",
      "  5.61        5.6         5.59        5.58        5.57        5.56\n",
      "  5.55        5.53        5.54        5.52        5.51        5.5\n",
      "  5.49        5.48        5.46        5.47        5.45        5.44\n",
      "  5.43        5.42        5.41        5.4         5.39        5.38\n",
      "  5.37        5.36        5.35        5.34        5.33        5.32\n",
      "  5.31        5.3         5.29        5.28        5.27        5.26\n",
      "  5.24        5.25        5.23        5.22        5.21        5.2\n",
      "  5.19        5.14        5.18        5.17        5.16        5.15\n",
      "  5.13        5.11        5.12        5.1         5.09        5.07\n",
      "  5.08        5.06        5.05        5.04        5.03        5.02\n",
      "  5.01        5.          4.99        4.98        4.97        4.96\n",
      "  4.95        4.94        4.93        4.92        4.91        4.9\n",
      "  4.89        4.88        4.84        4.87        4.86        4.85\n",
      "  4.83        4.82        4.81        4.8         4.79        4.78\n",
      "  4.77        4.76        4.75        4.74        4.73        4.72\n",
      "  4.71        4.7         4.69        4.68        4.66        4.67\n",
      "  4.65        4.64        4.63        4.62        4.6         4.59\n",
      "  4.58        4.57        4.56        4.55        4.54        4.53\n",
      "  4.52        4.49        4.5         4.48        4.46        4.45\n",
      "  4.44        4.43        4.42        4.4         4.39        4.38\n",
      "  4.36        4.35        4.34        4.32        4.31        4.3\n",
      "  4.28        4.27        4.26        4.25        4.24        4.23\n",
      "  4.22        4.21        4.19        4.17        4.16        4.15\n",
      "  4.11        4.08        4.04        4.03        4.02        4.\n",
      "  3.99        3.98        3.96        3.91        3.9         3.88\n",
      "  3.87        3.86        3.84        3.83        3.82        3.8\n",
      "  3.78        3.76        3.75        3.74        3.73        3.71\n",
      "  3.7         3.68        3.65        3.63        3.62        3.6\n",
      "  3.58        3.59        3.56        3.47        3.46        3.41\n",
      "  3.36        3.33        3.32        3.27        2.95        2.93\n",
      "  2.78        2.67        2.37        2.14        2.          4.06\n",
      "  4.18        4.09        3.67        3.          4.33        3.89\n",
      "  4.2         3.61        4.13        3.11        2.58        4.29\n",
      "  3.43        3.57        4.05        4.51        3.4         3.79\n",
      "  3.81        3.92        3.48        3.38        3.95        4.61\n",
      "  3.34        3.02        2.69        3.5         3.97        3.85\n",
      "  6.47390169  3.77        3.53        9.33        4.14        4.12\n",
      "  3.2         3.93        3.52        2.55        9.          2.97\n",
      "  4.1         3.39        3.17        9.5         3.25        2.8\n",
      "  2.91        2.75        4.41        3.72        3.94        1.67\n",
      "  4.37        3.69        3.26        3.49        2.49        2.84\n",
      "  4.07        3.35        3.54        3.21        3.42        9.6\n",
      "  3.28       10.          3.51        3.29        2.72        3.64\n",
      "  2.98        3.44        1.92        2.86        3.14      ]\n",
      "\n",
      "Unique values for column: members\n",
      "\n",
      "[200630 793665 114262 ...  27411  57355    652]\n",
      "\n"
     ]
    }
   ],
   "source": [
    "#check for unique values\n",
    "for i in data.columns:\n",
    "    print(f\"Unique values for column: {i}\\n\\n{data[i].unique()}\\n\")"
   ]
  },
  {
   "cell_type": "code",
   "execution_count": 15,
   "metadata": {},
   "outputs": [],
   "source": [
    "# Sort by 'rating' only\n",
    "data = data.sort_values(by='rating', ascending=False)"
   ]
  },
  {
   "cell_type": "code",
   "execution_count": 16,
   "metadata": {},
   "outputs": [],
   "source": [
    "from sklearn.model_selection import train_test_split\n",
    "\n",
    "# Split the data into training and testing sets\n",
    "train_data,test_data = train_test_split(data, test_size=0.2, random_state=42)"
   ]
  },
  {
   "cell_type": "code",
   "execution_count": 17,
   "metadata": {},
   "outputs": [
    {
     "name": "stdout",
     "output_type": "stream",
     "text": [
      "(9835, 8)\n",
      "(2459, 8)\n"
     ]
    }
   ],
   "source": [
    "print(train_data.shape)\n",
    "print(test_data.shape)"
   ]
  },
  {
   "cell_type": "code",
   "execution_count": 18,
   "metadata": {},
   "outputs": [],
   "source": [
    "#converting text data to feature\n",
    "vectorizer = TfidfVectorizer()"
   ]
  },
  {
   "cell_type": "code",
   "execution_count": 19,
   "metadata": {},
   "outputs": [],
   "source": [
    "genre_vectors = vectorizer.fit_transform(train_data['genre'])"
   ]
  },
  {
   "cell_type": "code",
   "execution_count": 20,
   "metadata": {},
   "outputs": [],
   "source": [
    "from sklearn.preprocessing import MinMaxScaler\n",
    "\n",
    "# Normalize rating using MinMaxScaler to ensure non-negativity\n",
    "scaler = MinMaxScaler()\n",
    "columns = ['rating']\n",
    "rating_normalized = scaler.fit_transform(train_data[columns])\n"
   ]
  },
  {
   "cell_type": "code",
   "execution_count": 21,
   "metadata": {},
   "outputs": [],
   "source": [
    "from scipy.sparse import hstack, csr_matrix\n",
    "\n",
    "# Convert normalized ratings to a sparse matrix\n",
    "rating_sparse = csr_matrix(rating_normalized)\n",
    "\n",
    "# Combine genre vectors and normalized ratings\n",
    "combined_features = hstack([genre_vectors, rating_sparse])\n",
    "\n",
    "# Compute cosine similarity\n",
    "similarity = cosine_similarity(combined_features)"
   ]
  },
  {
   "cell_type": "code",
   "execution_count": 22,
   "metadata": {},
   "outputs": [
    {
     "name": "stdout",
     "output_type": "stream",
     "text": [
      "[[1.         0.42597506 0.25902386 ... 0.5873434  0.42047978 0.2909319 ]\n",
      " [0.42597506 1.         0.25025697 ... 0.52883929 0.37393276 0.28108506]\n",
      " [0.25902386 0.25025697 1.         ... 0.24280239 0.27903753 0.23144803]\n",
      " ...\n",
      " [0.5873434  0.52883929 0.24280239 ... 1.         0.35795693 0.27271217]\n",
      " [0.42047978 0.37393276 0.27903753 ... 0.35795693 1.         0.31341096]\n",
      " [0.2909319  0.28108506 0.23144803 ... 0.27271217 0.31341096 1.        ]]\n"
     ]
    }
   ],
   "source": [
    "print(similarity)"
   ]
  },
  {
   "cell_type": "code",
   "execution_count": 23,
   "metadata": {},
   "outputs": [
    {
     "name": "stdout",
     "output_type": "stream",
     "text": [
      "(9835, 9835)\n"
     ]
    }
   ],
   "source": [
    "print(similarity.shape)"
   ]
  },
  {
   "cell_type": "code",
   "execution_count": 24,
   "metadata": {},
   "outputs": [
    {
     "name": "stdout",
     "output_type": "stream",
     "text": [
      "Animes suggested for you:\n",
      "\n",
      "1 . Area no Kishi\n",
      "2 . Kakumeiki Valvrave\n",
      "3 . Eigo de Asobo: Tanken Goblin Tou\n",
      "4 . SKET Dance\n",
      "5 . Future Card Buddyfight Recap\n"
     ]
    }
   ],
   "source": [
    "def recommend_animes(anime_name, train_data, similarity, top_n=5):\n",
    "    import difflib\n",
    "    \n",
    "    # Get a list of all anime titles in the training data\n",
    "    list_of_all_titles = train_data['name'].tolist()\n",
    "    \n",
    "    # Find the closest match to the input anime name\n",
    "    find_close_match = difflib.get_close_matches(anime_name, list_of_all_titles)\n",
    "    \n",
    "    if not find_close_match:\n",
    "        print(\"No close match found.\")\n",
    "        return []\n",
    "    \n",
    "    close_match = find_close_match[0]\n",
    "    index_of_the_anime = train_data[train_data['name'] == close_match]['index'].values\n",
    "    \n",
    "    if len(index_of_the_anime) == 0:\n",
    "        print(\"Anime not found in the dataset.\")\n",
    "        return []\n",
    "    \n",
    "    index_of_the_anime = index_of_the_anime[0]\n",
    "    \n",
    "    # Ensure index is within the bounds of the similarity matrix\n",
    "    if index_of_the_anime < len(similarity):\n",
    "        similarity_score = list(enumerate(similarity[index_of_the_anime]))\n",
    "        sorted_similar_animes = sorted(similarity_score, key=lambda x: x[1], reverse=True)\n",
    "        \n",
    "        print('Animes suggested for you:\\n')\n",
    "        recommendations = []\n",
    "        i = 1\n",
    "        for anime in sorted_similar_animes:\n",
    "            index = anime[0]\n",
    "            # Ensure the index is valid and exclude the input anime from recommendations\n",
    "            if index < len(train_data) and index != index_of_the_anime:\n",
    "                title_from_index = train_data[train_data['index'] == index]['name'].values\n",
    "                if title_from_index.size > 0 and i <= top_n:\n",
    "                    print(i, '.', title_from_index[0])\n",
    "                    recommendations.append(title_from_index[0])\n",
    "                    i += 1\n",
    "        \n",
    "        return recommendations\n",
    "    else:\n",
    "        print(\"Index out of bounds.\")\n",
    "        return []\n",
    "\n",
    "# Example usage:\n",
    "recommendations = recommend_animes('Naruto', train_data, similarity, top_n=5)\n"
   ]
  },
  {
   "cell_type": "code",
   "execution_count": 27,
   "metadata": {},
   "outputs": [
    {
     "name": "stdout",
     "output_type": "stream",
     "text": [
      "Animes suggested for you:\n",
      "\n",
      "1 . Shouwa Monogatari\n",
      "2 . DNA Sights 999.9\n",
      "3 . Onegai My Melody Sukkiri♪\n",
      "4 . Queen&#039;s Blade: Utsukushiki Toushitachi\n",
      "5 . Ginga Eiyuu Densetsu\n",
      "Recommendations: ['Shouwa Monogatari', 'DNA Sights 999.9', 'Onegai My Melody Sukkiri♪', 'Queen&#039;s Blade: Utsukushiki Toushitachi', 'Ginga Eiyuu Densetsu']\n",
      "Precision: 0.50\n",
      "Recall: 0.50\n",
      "F1 Score: 0.00\n",
      "Accuracy: 0.00\n"
     ]
    }
   ],
   "source": [
    "from sklearn.metrics import precision_score, recall_score, f1_score, accuracy_score\n",
    "\n",
    "# Example usage:\n",
    "anime_name = 'One Piece'\n",
    "recommendations = recommend_animes(anime_name, train_data, similarity, top_n=5)\n",
    "\n",
    "# Assuming the first recommendation as the predicted value\n",
    "predicted = recommendations[0] if recommendations else None\n",
    "\n",
    "# Ground truth: Assuming 'Naruto' itself should be among the top recommendations\n",
    "ground_truth = anime_name\n",
    "\n",
    "# Evaluation\n",
    "y_true = [ground_truth]  # Ground truth value\n",
    "y_pred = [predicted] if predicted else []  # Predicted value\n",
    "\n",
    "# Calculate precision, recall, F1 score, and accuracy\n",
    "precision = precision_score(y_true, y_pred, average='macro', zero_division=1)\n",
    "recall = recall_score(y_true, y_pred, average='macro', zero_division=1)\n",
    "f1 = f1_score(y_true, y_pred, average='macro', zero_division=1)\n",
    "accuracy = accuracy_score(y_true, y_pred)\n",
    "\n",
    "print(f'Recommendations: {recommendations}')\n",
    "print(f'Precision: {precision:.2f}')\n",
    "print(f'Recall: {recall:.2f}')\n",
    "print(f'F1 Score: {f1:.2f}')\n",
    "print(f'Accuracy: {accuracy:.2f}')\n"
   ]
  },
  {
   "cell_type": "code",
   "execution_count": null,
   "metadata": {},
   "outputs": [],
   "source": []
  }
 ],
 "metadata": {
  "kernelspec": {
   "display_name": "base",
   "language": "python",
   "name": "python3"
  },
  "language_info": {
   "codemirror_mode": {
    "name": "ipython",
    "version": 3
   },
   "file_extension": ".py",
   "mimetype": "text/x-python",
   "name": "python",
   "nbconvert_exporter": "python",
   "pygments_lexer": "ipython3",
   "version": "3.10.9"
  }
 },
 "nbformat": 4,
 "nbformat_minor": 2
}
