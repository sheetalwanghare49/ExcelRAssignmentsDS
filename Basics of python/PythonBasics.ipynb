{
 "cells": [
  {
   "cell_type": "markdown",
   "metadata": {},
   "source": [
    "Excercise 1: Prime Numbers"
   ]
  },
  {
   "cell_type": "code",
   "execution_count": 1,
   "metadata": {},
   "outputs": [
    {
     "name": "stdout",
     "output_type": "stream",
     "text": [
      "Not Prime Number\n"
     ]
    }
   ],
   "source": [
    "def isprime(num):\n",
    "    #check number is less than equal to 1\n",
    "    if num <= 1:\n",
    "        return 'Not Prime Number'\n",
    "    #check from 2 to half of the number\n",
    "    for i in range(2, int(num**0.5) + 1):\n",
    "        if num % i == 0:\n",
    "            return 'Not Prime Number'\n",
    "    return 'Prime Number'\n",
    "\n",
    "num = int(input('Enter a Number: '))\n",
    "print(isprime(num))\n"
   ]
  },
  {
   "cell_type": "markdown",
   "metadata": {},
   "source": [
    "Exercise 2: Product of Random Numbers"
   ]
  },
  {
   "cell_type": "code",
   "execution_count": 2,
   "metadata": {},
   "outputs": [
    {
     "name": "stdout",
     "output_type": "stream",
     "text": [
      "Correct! Well done.\n"
     ]
    }
   ],
   "source": [
    "import random\n",
    "\n",
    "def product_of_random_numbers():\n",
    "    # Generate two random numbers between 1 and 10\n",
    "    num1 = random.randint(1, 10)\n",
    "    num2 = random.randint(1, 10)\n",
    "    \n",
    "    # Calculate the correct product\n",
    "    correct_product = num1 * num2\n",
    "    \n",
    "    # Ask the user for the product\n",
    "    user_answer = int(input(f\"What is the product of {num1} and {num2}? \"))\n",
    "    \n",
    "    # Check if the user's answer is correct\n",
    "    if user_answer == correct_product:\n",
    "        print(\"Correct! Well done.\")\n",
    "    else:\n",
    "        print(f\"Incorrect. The correct product is {correct_product}.\")\n",
    "\n",
    "product_of_random_numbers()\n"
   ]
  },
  {
   "cell_type": "markdown",
   "metadata": {},
   "source": [
    "Exercise 3: Squares of Even/Odd Numbers"
   ]
  },
  {
   "cell_type": "code",
   "execution_count": 3,
   "metadata": {},
   "outputs": [
    {
     "name": "stdout",
     "output_type": "stream",
     "text": [
      "The square of 100 = 10000\n",
      "The square of 102 = 10404\n",
      "The square of 104 = 10816\n",
      "The square of 106 = 11236\n",
      "The square of 108 = 11664\n",
      "The square of 110 = 12100\n",
      "The square of 112 = 12544\n",
      "The square of 114 = 12996\n",
      "The square of 116 = 13456\n",
      "The square of 118 = 13924\n",
      "The square of 120 = 14400\n",
      "The square of 122 = 14884\n",
      "The square of 124 = 15376\n",
      "The square of 126 = 15876\n",
      "The square of 128 = 16384\n",
      "The square of 130 = 16900\n",
      "The square of 132 = 17424\n",
      "The square of 134 = 17956\n",
      "The square of 136 = 18496\n",
      "The square of 138 = 19044\n",
      "The square of 140 = 19600\n",
      "The square of 142 = 20164\n",
      "The square of 144 = 20736\n",
      "The square of 146 = 21316\n",
      "The square of 148 = 21904\n",
      "The square of 150 = 22500\n",
      "The square of 152 = 23104\n",
      "The square of 154 = 23716\n",
      "The square of 156 = 24336\n",
      "The square of 158 = 24964\n",
      "The square of 160 = 25600\n",
      "The square of 162 = 26244\n",
      "The square of 164 = 26896\n",
      "The square of 166 = 27556\n",
      "The square of 168 = 28224\n",
      "The square of 170 = 28900\n",
      "The square of 172 = 29584\n",
      "The square of 174 = 30276\n",
      "The square of 176 = 30976\n",
      "The square of 178 = 31684\n",
      "The square of 180 = 32400\n",
      "The square of 182 = 33124\n",
      "The square of 184 = 33856\n",
      "The square of 186 = 34596\n",
      "The square of 188 = 35344\n",
      "The square of 190 = 36100\n",
      "The square of 192 = 36864\n",
      "The square of 194 = 37636\n",
      "The square of 196 = 38416\n",
      "The square of 198 = 39204\n",
      "The square of 200 = 40000\n"
     ]
    }
   ],
   "source": [
    "def squares_of_even_numbers():\n",
    "    # Loop through the range from 100 to 200 inclusive\n",
    "    for num in range(100, 201):\n",
    "        # Check if the number is even\n",
    "        if num % 2 == 0:\n",
    "            # Calculate the square of the number\n",
    "            square = num ** 2\n",
    "            # Print the number and its square\n",
    "            print(f\"The square of {num} = {square}\")\n",
    "\n",
    "squares_of_even_numbers()"
   ]
  },
  {
   "cell_type": "markdown",
   "metadata": {},
   "source": [
    "Exercise 4: Word counter"
   ]
  },
  {
   "cell_type": "code",
   "execution_count": 16,
   "metadata": {},
   "outputs": [
    {
     "name": "stdout",
     "output_type": "stream",
     "text": [
      "'This': 2\n",
      "'is': 1\n",
      "'a': 1\n",
      "'sample': 1\n",
      "'text.': 1\n",
      "'text': 1\n",
      "'will': 1\n",
      "'be': 1\n",
      "'used': 1\n",
      "'to': 1\n",
      "'demonstrate': 1\n",
      "'the': 1\n",
      "'word': 1\n",
      "'counter.': 1\n"
     ]
    }
   ],
   "source": [
    "import re\n",
    "\n",
    "def word_count(text):\n",
    "    # Split the text into words\n",
    "    words = text.split()\n",
    "    \n",
    "    # Create an empty dictionary to store word counts\n",
    "    word_counts = {}\n",
    "    \n",
    "    # Count the frequency of each word\n",
    "    for word in words:\n",
    "        if word in word_counts:\n",
    "            word_counts[word] += 1\n",
    "        else:\n",
    "            word_counts[word] = 1\n",
    "    \n",
    "    # Print the word counts\n",
    "    for word, count in word_counts.items():\n",
    "        print(f\"'{word}': {count}\")\n",
    "\n",
    "\n",
    "input_text = \"This is a sample text. This text will be used to demonstrate the word counter.\"\n",
    "word_count(input_text)\n"
   ]
  },
  {
   "cell_type": "markdown",
   "metadata": {},
   "source": [
    " Exercise 5: Check for Palindrome"
   ]
  },
  {
   "cell_type": "code",
   "execution_count": 30,
   "metadata": {},
   "outputs": [
    {
     "data": {
      "text/plain": [
       "True"
      ]
     },
     "execution_count": 30,
     "metadata": {},
     "output_type": "execute_result"
    }
   ],
   "source": [
    "def is_palindrome(word):\n",
    "    # Convert the word to lowercase\n",
    "    word = word.lower()\n",
    "    \n",
    "    # Check if the word is equal to its reverse\n",
    "    return word == word[::-1]\n",
    "\n",
    "is_palindrome('racecar')"
   ]
  },
  {
   "cell_type": "code",
   "execution_count": null,
   "metadata": {},
   "outputs": [],
   "source": []
  }
 ],
 "metadata": {
  "kernelspec": {
   "display_name": "base",
   "language": "python",
   "name": "python3"
  },
  "language_info": {
   "codemirror_mode": {
    "name": "ipython",
    "version": 3
   },
   "file_extension": ".py",
   "mimetype": "text/x-python",
   "name": "python",
   "nbconvert_exporter": "python",
   "pygments_lexer": "ipython3",
   "version": "3.10.9"
  }
 },
 "nbformat": 4,
 "nbformat_minor": 2
}
